{
 "cells": [
  {
   "cell_type": "markdown",
   "metadata": {},
   "source": [
    "<a href=\"https://cognitiveclass.ai\"><img src = \"https://ibm.box.com/shared/static/ugcqz6ohbvff804xp84y4kqnvvk3bq1g.png\" width = 300, align = \"center\"></a>\n",
    "\n",
    "<h1 align=center><font size = 5>Lab: Working with a real world data-set using SQL and Python</font></h1>"
   ]
  },
  {
   "cell_type": "markdown",
   "metadata": {},
   "source": [
    "# Introduction\n",
    "\n",
    "This notebook shows how to work with a real world dataset using SQL and Python. In this lab you will:\n",
    "1. Understand the dataset for Chicago Public School level performance \n",
    "1. Store the dataset in an Db2 database on IBM Cloud instance\n",
    "1. Retrieve metadata about tables and columns and query data from mixed case columns\n",
    "1. Solve example problems to practice your SQL skills including using built-in database functions"
   ]
  },
  {
   "cell_type": "markdown",
   "metadata": {},
   "source": [
    "## Chicago Public Schools - Progress Report Cards (2011-2012) \n",
    "\n",
    "The city of Chicago released a dataset showing all school level performance data used to create School Report Cards for the 2011-2012 school year. The dataset is available from the Chicago Data Portal: https://data.cityofchicago.org/Education/Chicago-Public-Schools-Progress-Report-Cards-2011-/9xs2-f89t\n",
    "\n",
    "This dataset includes a large number of metrics. Start by familiarizing yourself with the types of metrics in the database: https://data.cityofchicago.org/api/assets/AAD41A13-BE8A-4E67-B1F5-86E711E09D5F?download=true\n",
    "\n",
    "__NOTE__: Do not download the dataset directly from City of Chicago portal. Instead download a more database friendly version from the link below.\n",
    "Now download a static copy of this database and review some of its contents:\n",
    "https://ibm.box.com/shared/static/f9gjvj1gjmxxzycdhplzt01qtz0s7ew7.csv\n",
    "\n"
   ]
  },
  {
   "cell_type": "markdown",
   "metadata": {},
   "source": [
    "### Store the dataset in a Table\n",
    "In many cases the dataset to be analyzed is available as a .CSV (comma separated values) file, perhaps on the internet. To analyze the data using SQL, it first needs to be stored in the database.\n",
    "\n",
    "While it is easier to read the dataset into a Pandas dataframe and then PERSIST it into the database as we saw in the previous lab, it results in mapping to default datatypes which may not be optimal for SQL querying. For example a long textual field may map to a CLOB instead of a VARCHAR. \n",
    "\n",
    "Therefore, __it is highly recommended to manually load the table using the database console LOAD tool, as indicated in Week 2 Lab 1 Part II__. The only difference with that lab is that in Step 5 of the instructions you will need to click on create \"(+) New Table\" and specify the name of the table you want to create and then click \"Next\". \n",
    "\n",
    "##### Now open the Db2 console, open the LOAD tool, Select / Drag the .CSV file for the CHICAGO PUBLIC SCHOOLS dataset and load the dataset into a new table called __SCHOOLS__.\n",
    "\n",
    "<a href=\"https://cognitiveclass.ai\"><img src = \"https://ibm.box.com/shared/static/uc4xjh1uxcc78ks1i18v668simioz4es.jpg\"></a>"
   ]
  },
  {
   "cell_type": "markdown",
   "metadata": {},
   "source": [
    "### Connect to the database\n",
    "Let us now load the ipython-sql  extension and establish a connection with the database"
   ]
  },
  {
   "cell_type": "code",
   "execution_count": 2,
   "metadata": {},
   "outputs": [],
   "source": [
    "%load_ext sql"
   ]
  },
  {
   "cell_type": "code",
   "execution_count": 3,
   "metadata": {
    "tags": []
   },
   "outputs": [],
   "source": [
    "# Enter the connection string for your Db2 on Cloud database instance below\n",
    "# %sql ibm_db_sa://my-username:my-password@my-hostname:my-port/my-db-name\n",
    "%sql ibm_db_sa://rqw16120:r6n1nx4-gbh4jqbt@dashdb-txn-sbox-yp-dal09-10.services.dal.bluemix.net:50000/BLUDB"
   ]
  },
  {
   "cell_type": "markdown",
   "metadata": {},
   "source": [
    "### Query the database system catalog to retrieve table metadata\n",
    "\n",
    "##### You can verify that the table creation was successful by retrieving the list of all tables in your schema and checking whether the SCHOOLS table was created"
   ]
  },
  {
   "cell_type": "code",
   "execution_count": 4,
   "metadata": {
    "tags": []
   },
   "outputs": [
    {
     "output_type": "stream",
     "name": "stdout",
     "text": "* ibm_db_sa://rqw16120:***@dashdb-txn-sbox-yp-dal09-10.services.dal.bluemix.net:50000/BLUDB\nDone.\n"
    },
    {
     "output_type": "execute_result",
     "data": {
      "text/plain": "[('RQW16120', 'INSTRUCTOR', datetime.datetime(2020, 7, 25, 0, 12, 22, 302451)),\n ('RQW16120', 'INTERNATIONAL_STUDENT_TEST_SCORES', datetime.datetime(2020, 7, 25, 1, 10, 57, 146813)),\n ('RQW16120', 'CHICAGO_SOCIOECONOMIC_DATA', datetime.datetime(2020, 7, 26, 1, 16, 25, 215539)),\n ('RQW16120', 'SCHOOLS', datetime.datetime(2020, 8, 3, 2, 4, 50, 104338))]",
      "text/html": "<table>\n    <tr>\n        <th>tabschema</th>\n        <th>tabname</th>\n        <th>create_time</th>\n    </tr>\n    <tr>\n        <td>RQW16120</td>\n        <td>INSTRUCTOR</td>\n        <td>2020-07-25 00:12:22.302451</td>\n    </tr>\n    <tr>\n        <td>RQW16120</td>\n        <td>INTERNATIONAL_STUDENT_TEST_SCORES</td>\n        <td>2020-07-25 01:10:57.146813</td>\n    </tr>\n    <tr>\n        <td>RQW16120</td>\n        <td>CHICAGO_SOCIOECONOMIC_DATA</td>\n        <td>2020-07-26 01:16:25.215539</td>\n    </tr>\n    <tr>\n        <td>RQW16120</td>\n        <td>SCHOOLS</td>\n        <td>2020-08-03 02:04:50.104338</td>\n    </tr>\n</table>"
     },
     "metadata": {},
     "execution_count": 4
    }
   ],
   "source": [
    "# type in your query to retrieve list of all tables in the database for your db2 schema (username)\n",
    "%sql select TABSCHEMA, TABNAME, CREATE_TIME from syscat.tables where TABSCHEMA='RQW16120';"
   ]
  },
  {
   "cell_type": "markdown",
   "metadata": {},
   "source": [
    "Double-click __here__ for a hint\n",
    "\n",
    "<!--\n",
    "In Db2 the system catalog table called SYSCAT.TABLES contains the table metadata\n",
    "-->"
   ]
  },
  {
   "cell_type": "markdown",
   "metadata": {},
   "source": [
    "Double-click __here__ for the solution.\n",
    "\n",
    "<!-- Solution:\n",
    "\n",
    "%sql select TABSCHEMA, TABNAME, CREATE_TIME from SYSCAT.TABLES where TABSCHEMA='YOUR-DB2-USERNAME'\n",
    "\n",
    "or, you can retrieve list of all tables where the schema name is not one of the system created ones:\n",
    "\n",
    "%sql select TABSCHEMA, TABNAME, CREATE_TIME from SYSCAT.TABLES \\\n",
    "      where TABSCHEMA not in ('SYSIBM', 'SYSCAT', 'SYSSTAT', 'SYSIBMADM', 'SYSTOOLS', 'SYSPUBLIC')\n",
    "      \n",
    "or, just query for a specifc table that you want to verify exists in the database\n",
    "%sql select * from SYSCAT.TABLES where TABNAME = 'SCHOOLS'\n",
    "\n",
    "-->"
   ]
  },
  {
   "cell_type": "markdown",
   "metadata": {},
   "source": [
    "### Query the database system catalog to retrieve column metadata\n",
    "\n",
    "The SCHOOLS table contains a large number of columns. How many columns does this table have?"
   ]
  },
  {
   "cell_type": "code",
   "execution_count": 5,
   "metadata": {
    "tags": []
   },
   "outputs": [
    {
     "output_type": "stream",
     "name": "stdout",
     "text": "* ibm_db_sa://rqw16120:***@dashdb-txn-sbox-yp-dal09-10.services.dal.bluemix.net:50000/BLUDB\nDone.\n"
    },
    {
     "output_type": "execute_result",
     "data": {
      "text/plain": "[(Decimal('78'),)]",
      "text/html": "<table>\n    <tr>\n        <th>1</th>\n    </tr>\n    <tr>\n        <td>78</td>\n    </tr>\n</table>"
     },
     "metadata": {},
     "execution_count": 5
    }
   ],
   "source": [
    "# type in your query to retrieve the number of columns in the SCHOOLS table\n",
    "%sql select count(*) from syscat.columns where tabname = 'SCHOOLS';"
   ]
  },
  {
   "cell_type": "markdown",
   "metadata": {},
   "source": [
    "Double-click __here__ for a hint\n",
    "\n",
    "<!--\n",
    "In Db2 the system catalog table called SYSCAT.COLUMNS contains the column metadata\n",
    "-->"
   ]
  },
  {
   "cell_type": "markdown",
   "metadata": {},
   "source": [
    "Double-click __here__ for the solution.\n",
    "\n",
    "<!-- Solution:\n",
    "\n",
    "%sql select count(*) from SYSCAT.COLUMNS where TABNAME = 'SCHOOLS'\n",
    "\n",
    "-->"
   ]
  },
  {
   "cell_type": "markdown",
   "metadata": {},
   "source": [
    "Now retrieve the the list of columns in SCHOOLS table and their column type (datatype) and length."
   ]
  },
  {
   "cell_type": "code",
   "execution_count": 6,
   "metadata": {
    "tags": []
   },
   "outputs": [
    {
     "output_type": "stream",
     "name": "stdout",
     "text": "* ibm_db_sa://rqw16120:***@dashdb-txn-sbox-yp-dal09-10.services.dal.bluemix.net:50000/BLUDB\nDone.\n"
    },
    {
     "output_type": "execute_result",
     "data": {
      "text/plain": "[('Leaders_Score', 3, 'VARCHAR'),\n ('Leaders_Icon', 11, 'VARCHAR'),\n ('Teachers_Icon', 11, 'VARCHAR'),\n ('Teachers_Score', 3, 'VARCHAR'),\n ('Parent_Engagement_Icon', 7, 'VARCHAR'),\n ('Parent_Engagement_Score', 3, 'VARCHAR'),\n ('Parent_Environment_Icon', 7, 'VARCHAR'),\n ('Parent_Environment_Score', 3, 'VARCHAR'),\n ('AVERAGE_STUDENT_ATTENDANCE', 6, 'VARCHAR'),\n ('Rate_of_Misconducts__per_100_students_', 5, 'DECIMAL'),\n ('Average_Teacher_Attendance', 6, 'VARCHAR'),\n ('School_ID', 4, 'INTEGER'),\n ('NAME_OF_SCHOOL', 65, 'VARCHAR'),\n ('Elementary, Middle, or High School', 2, 'VARCHAR'),\n ('Street_Address', 30, 'VARCHAR'),\n ('City', 7, 'VARCHAR'),\n ('State', 2, 'VARCHAR'),\n ('ZIP_Code', 4, 'INTEGER'),\n ('Phone_Number', 14, 'VARCHAR'),\n ('Link', 78, 'VARCHAR'),\n ('Network_Manager', 40, 'VARCHAR'),\n ('Collaborative_Name', 34, 'VARCHAR'),\n ('Adequate_Yearly_Progress_Made_', 3, 'VARCHAR'),\n ('Track_Schedule', 12, 'VARCHAR'),\n ('CPS_Performance_Policy_Status', 16, 'VARCHAR'),\n ('CPS_Performance_Policy_Level', 15, 'VARCHAR'),\n ('HEALTHY_SCHOOL_CERTIFIED', 3, 'VARCHAR'),\n ('Safety_Icon', 11, 'VARCHAR'),\n ('SAFETY_SCORE', 2, 'SMALLINT'),\n ('Family_Involvement_Icon', 11, 'VARCHAR'),\n ('Family_Involvement_Score', 3, 'VARCHAR'),\n ('Environment_Icon', 11, 'VARCHAR'),\n ('Environment_Score', 2, 'SMALLINT'),\n ('Instruction_Icon', 11, 'VARCHAR'),\n ('Instruction_Score', 2, 'SMALLINT'),\n ('Individualized_Education_Program_Compliance_Rate', 7, 'VARCHAR'),\n ('Pk_2_Literacy__', 4, 'VARCHAR'),\n ('Pk_2_Math__', 4, 'VARCHAR'),\n ('Gr3_5_Grade_Level_Math__', 4, 'VARCHAR'),\n ('Gr3_5_Grade_Level_Read__', 4, 'VARCHAR'),\n ('Gr3_5_Keep_Pace_Read__', 4, 'VARCHAR'),\n ('Gr3_5_Keep_Pace_Math__', 4, 'VARCHAR'),\n ('Gr6_8_Grade_Level_Math__', 4, 'VARCHAR'),\n ('Gr6_8_Grade_Level_Read__', 4, 'VARCHAR'),\n ('Gr6_8_Keep_Pace_Math_', 4, 'VARCHAR'),\n ('Gr6_8_Keep_Pace_Read__', 4, 'VARCHAR'),\n ('Gr_8_Explore_Math__', 4, 'VARCHAR'),\n ('Gr_8_Explore_Read__', 4, 'VARCHAR'),\n ('ISAT_Exceeding_Math__', 4, 'DECIMAL'),\n ('ISAT_Exceeding_Reading__', 4, 'DECIMAL'),\n ('ISAT_Value_Add_Math', 3, 'DECIMAL'),\n ('ISAT_Value_Add_Read', 3, 'DECIMAL'),\n ('ISAT_Value_Add_Color_Math', 6, 'VARCHAR'),\n ('ISAT_Value_Add_Color_Read', 6, 'VARCHAR'),\n ('Students_Taking__Algebra__', 4, 'VARCHAR'),\n ('Students_Passing__Algebra__', 4, 'VARCHAR'),\n ('9th Grade EXPLORE (2009)', 4, 'VARCHAR'),\n ('9th Grade EXPLORE (2010)', 4, 'VARCHAR'),\n ('10th Grade PLAN (2009)', 4, 'VARCHAR'),\n ('10th Grade PLAN (2010)', 4, 'VARCHAR'),\n ('Net_Change_EXPLORE_and_PLAN', 3, 'VARCHAR'),\n ('11th Grade Average ACT (2011)', 4, 'VARCHAR'),\n ('Net_Change_PLAN_and_ACT', 3, 'VARCHAR'),\n ('College_Eligibility__', 4, 'VARCHAR'),\n ('Graduation_Rate__', 4, 'VARCHAR'),\n ('College_Enrollment_Rate__', 4, 'VARCHAR'),\n ('COLLEGE_ENROLLMENT', 2, 'SMALLINT'),\n ('General_Services_Route', 2, 'SMALLINT'),\n ('Freshman_on_Track_Rate__', 4, 'VARCHAR'),\n ('X_COORDINATE', 13, 'DECIMAL'),\n ('Y_COORDINATE', 13, 'DECIMAL'),\n ('Latitude', 18, 'DECIMAL'),\n ('Longitude', 18, 'DECIMAL'),\n ('COMMUNITY_AREA_NUMBER', 2, 'SMALLINT'),\n ('COMMUNITY_AREA_NAME', 22, 'VARCHAR'),\n ('Ward', 2, 'SMALLINT'),\n ('Police_District', 2, 'SMALLINT'),\n ('Location', 27, 'VARCHAR')]",
      "text/html": "<table>\n    <tr>\n        <th>colname</th>\n        <th>length</th>\n        <th>typename</th>\n    </tr>\n    <tr>\n        <td>Leaders_Score</td>\n        <td>3</td>\n        <td>VARCHAR</td>\n    </tr>\n    <tr>\n        <td>Leaders_Icon</td>\n        <td>11</td>\n        <td>VARCHAR</td>\n    </tr>\n    <tr>\n        <td>Teachers_Icon</td>\n        <td>11</td>\n        <td>VARCHAR</td>\n    </tr>\n    <tr>\n        <td>Teachers_Score</td>\n        <td>3</td>\n        <td>VARCHAR</td>\n    </tr>\n    <tr>\n        <td>Parent_Engagement_Icon</td>\n        <td>7</td>\n        <td>VARCHAR</td>\n    </tr>\n    <tr>\n        <td>Parent_Engagement_Score</td>\n        <td>3</td>\n        <td>VARCHAR</td>\n    </tr>\n    <tr>\n        <td>Parent_Environment_Icon</td>\n        <td>7</td>\n        <td>VARCHAR</td>\n    </tr>\n    <tr>\n        <td>Parent_Environment_Score</td>\n        <td>3</td>\n        <td>VARCHAR</td>\n    </tr>\n    <tr>\n        <td>AVERAGE_STUDENT_ATTENDANCE</td>\n        <td>6</td>\n        <td>VARCHAR</td>\n    </tr>\n    <tr>\n        <td>Rate_of_Misconducts__per_100_students_</td>\n        <td>5</td>\n        <td>DECIMAL</td>\n    </tr>\n    <tr>\n        <td>Average_Teacher_Attendance</td>\n        <td>6</td>\n        <td>VARCHAR</td>\n    </tr>\n    <tr>\n        <td>School_ID</td>\n        <td>4</td>\n        <td>INTEGER</td>\n    </tr>\n    <tr>\n        <td>NAME_OF_SCHOOL</td>\n        <td>65</td>\n        <td>VARCHAR</td>\n    </tr>\n    <tr>\n        <td>Elementary, Middle, or High School</td>\n        <td>2</td>\n        <td>VARCHAR</td>\n    </tr>\n    <tr>\n        <td>Street_Address</td>\n        <td>30</td>\n        <td>VARCHAR</td>\n    </tr>\n    <tr>\n        <td>City</td>\n        <td>7</td>\n        <td>VARCHAR</td>\n    </tr>\n    <tr>\n        <td>State</td>\n        <td>2</td>\n        <td>VARCHAR</td>\n    </tr>\n    <tr>\n        <td>ZIP_Code</td>\n        <td>4</td>\n        <td>INTEGER</td>\n    </tr>\n    <tr>\n        <td>Phone_Number</td>\n        <td>14</td>\n        <td>VARCHAR</td>\n    </tr>\n    <tr>\n        <td>Link</td>\n        <td>78</td>\n        <td>VARCHAR</td>\n    </tr>\n    <tr>\n        <td>Network_Manager</td>\n        <td>40</td>\n        <td>VARCHAR</td>\n    </tr>\n    <tr>\n        <td>Collaborative_Name</td>\n        <td>34</td>\n        <td>VARCHAR</td>\n    </tr>\n    <tr>\n        <td>Adequate_Yearly_Progress_Made_</td>\n        <td>3</td>\n        <td>VARCHAR</td>\n    </tr>\n    <tr>\n        <td>Track_Schedule</td>\n        <td>12</td>\n        <td>VARCHAR</td>\n    </tr>\n    <tr>\n        <td>CPS_Performance_Policy_Status</td>\n        <td>16</td>\n        <td>VARCHAR</td>\n    </tr>\n    <tr>\n        <td>CPS_Performance_Policy_Level</td>\n        <td>15</td>\n        <td>VARCHAR</td>\n    </tr>\n    <tr>\n        <td>HEALTHY_SCHOOL_CERTIFIED</td>\n        <td>3</td>\n        <td>VARCHAR</td>\n    </tr>\n    <tr>\n        <td>Safety_Icon</td>\n        <td>11</td>\n        <td>VARCHAR</td>\n    </tr>\n    <tr>\n        <td>SAFETY_SCORE</td>\n        <td>2</td>\n        <td>SMALLINT</td>\n    </tr>\n    <tr>\n        <td>Family_Involvement_Icon</td>\n        <td>11</td>\n        <td>VARCHAR</td>\n    </tr>\n    <tr>\n        <td>Family_Involvement_Score</td>\n        <td>3</td>\n        <td>VARCHAR</td>\n    </tr>\n    <tr>\n        <td>Environment_Icon</td>\n        <td>11</td>\n        <td>VARCHAR</td>\n    </tr>\n    <tr>\n        <td>Environment_Score</td>\n        <td>2</td>\n        <td>SMALLINT</td>\n    </tr>\n    <tr>\n        <td>Instruction_Icon</td>\n        <td>11</td>\n        <td>VARCHAR</td>\n    </tr>\n    <tr>\n        <td>Instruction_Score</td>\n        <td>2</td>\n        <td>SMALLINT</td>\n    </tr>\n    <tr>\n        <td>Individualized_Education_Program_Compliance_Rate</td>\n        <td>7</td>\n        <td>VARCHAR</td>\n    </tr>\n    <tr>\n        <td>Pk_2_Literacy__</td>\n        <td>4</td>\n        <td>VARCHAR</td>\n    </tr>\n    <tr>\n        <td>Pk_2_Math__</td>\n        <td>4</td>\n        <td>VARCHAR</td>\n    </tr>\n    <tr>\n        <td>Gr3_5_Grade_Level_Math__</td>\n        <td>4</td>\n        <td>VARCHAR</td>\n    </tr>\n    <tr>\n        <td>Gr3_5_Grade_Level_Read__</td>\n        <td>4</td>\n        <td>VARCHAR</td>\n    </tr>\n    <tr>\n        <td>Gr3_5_Keep_Pace_Read__</td>\n        <td>4</td>\n        <td>VARCHAR</td>\n    </tr>\n    <tr>\n        <td>Gr3_5_Keep_Pace_Math__</td>\n        <td>4</td>\n        <td>VARCHAR</td>\n    </tr>\n    <tr>\n        <td>Gr6_8_Grade_Level_Math__</td>\n        <td>4</td>\n        <td>VARCHAR</td>\n    </tr>\n    <tr>\n        <td>Gr6_8_Grade_Level_Read__</td>\n        <td>4</td>\n        <td>VARCHAR</td>\n    </tr>\n    <tr>\n        <td>Gr6_8_Keep_Pace_Math_</td>\n        <td>4</td>\n        <td>VARCHAR</td>\n    </tr>\n    <tr>\n        <td>Gr6_8_Keep_Pace_Read__</td>\n        <td>4</td>\n        <td>VARCHAR</td>\n    </tr>\n    <tr>\n        <td>Gr_8_Explore_Math__</td>\n        <td>4</td>\n        <td>VARCHAR</td>\n    </tr>\n    <tr>\n        <td>Gr_8_Explore_Read__</td>\n        <td>4</td>\n        <td>VARCHAR</td>\n    </tr>\n    <tr>\n        <td>ISAT_Exceeding_Math__</td>\n        <td>4</td>\n        <td>DECIMAL</td>\n    </tr>\n    <tr>\n        <td>ISAT_Exceeding_Reading__</td>\n        <td>4</td>\n        <td>DECIMAL</td>\n    </tr>\n    <tr>\n        <td>ISAT_Value_Add_Math</td>\n        <td>3</td>\n        <td>DECIMAL</td>\n    </tr>\n    <tr>\n        <td>ISAT_Value_Add_Read</td>\n        <td>3</td>\n        <td>DECIMAL</td>\n    </tr>\n    <tr>\n        <td>ISAT_Value_Add_Color_Math</td>\n        <td>6</td>\n        <td>VARCHAR</td>\n    </tr>\n    <tr>\n        <td>ISAT_Value_Add_Color_Read</td>\n        <td>6</td>\n        <td>VARCHAR</td>\n    </tr>\n    <tr>\n        <td>Students_Taking__Algebra__</td>\n        <td>4</td>\n        <td>VARCHAR</td>\n    </tr>\n    <tr>\n        <td>Students_Passing__Algebra__</td>\n        <td>4</td>\n        <td>VARCHAR</td>\n    </tr>\n    <tr>\n        <td>9th Grade EXPLORE (2009)</td>\n        <td>4</td>\n        <td>VARCHAR</td>\n    </tr>\n    <tr>\n        <td>9th Grade EXPLORE (2010)</td>\n        <td>4</td>\n        <td>VARCHAR</td>\n    </tr>\n    <tr>\n        <td>10th Grade PLAN (2009)</td>\n        <td>4</td>\n        <td>VARCHAR</td>\n    </tr>\n    <tr>\n        <td>10th Grade PLAN (2010)</td>\n        <td>4</td>\n        <td>VARCHAR</td>\n    </tr>\n    <tr>\n        <td>Net_Change_EXPLORE_and_PLAN</td>\n        <td>3</td>\n        <td>VARCHAR</td>\n    </tr>\n    <tr>\n        <td>11th Grade Average ACT (2011)</td>\n        <td>4</td>\n        <td>VARCHAR</td>\n    </tr>\n    <tr>\n        <td>Net_Change_PLAN_and_ACT</td>\n        <td>3</td>\n        <td>VARCHAR</td>\n    </tr>\n    <tr>\n        <td>College_Eligibility__</td>\n        <td>4</td>\n        <td>VARCHAR</td>\n    </tr>\n    <tr>\n        <td>Graduation_Rate__</td>\n        <td>4</td>\n        <td>VARCHAR</td>\n    </tr>\n    <tr>\n        <td>College_Enrollment_Rate__</td>\n        <td>4</td>\n        <td>VARCHAR</td>\n    </tr>\n    <tr>\n        <td>COLLEGE_ENROLLMENT</td>\n        <td>2</td>\n        <td>SMALLINT</td>\n    </tr>\n    <tr>\n        <td>General_Services_Route</td>\n        <td>2</td>\n        <td>SMALLINT</td>\n    </tr>\n    <tr>\n        <td>Freshman_on_Track_Rate__</td>\n        <td>4</td>\n        <td>VARCHAR</td>\n    </tr>\n    <tr>\n        <td>X_COORDINATE</td>\n        <td>13</td>\n        <td>DECIMAL</td>\n    </tr>\n    <tr>\n        <td>Y_COORDINATE</td>\n        <td>13</td>\n        <td>DECIMAL</td>\n    </tr>\n    <tr>\n        <td>Latitude</td>\n        <td>18</td>\n        <td>DECIMAL</td>\n    </tr>\n    <tr>\n        <td>Longitude</td>\n        <td>18</td>\n        <td>DECIMAL</td>\n    </tr>\n    <tr>\n        <td>COMMUNITY_AREA_NUMBER</td>\n        <td>2</td>\n        <td>SMALLINT</td>\n    </tr>\n    <tr>\n        <td>COMMUNITY_AREA_NAME</td>\n        <td>22</td>\n        <td>VARCHAR</td>\n    </tr>\n    <tr>\n        <td>Ward</td>\n        <td>2</td>\n        <td>SMALLINT</td>\n    </tr>\n    <tr>\n        <td>Police_District</td>\n        <td>2</td>\n        <td>SMALLINT</td>\n    </tr>\n    <tr>\n        <td>Location</td>\n        <td>27</td>\n        <td>VARCHAR</td>\n    </tr>\n</table>"
     },
     "metadata": {},
     "execution_count": 6
    }
   ],
   "source": [
    "# type in your query to retrieve all column names in the SCHOOLS table along with their datatypes and length\n",
    "%sql select colname, length, typename from syscat.columns where tabname = 'SCHOOLS';"
   ]
  },
  {
   "cell_type": "markdown",
   "metadata": {},
   "source": [
    "Double-click __here__ for the solution.\n",
    "\n",
    "<!-- Solution:\n",
    "\n",
    "%sql select COLNAME, TYPENAME, LENGTH from SYSCAT.COLUMNS where TABNAME = 'SCHOOLS'\n",
    "\n",
    "or\n",
    "\n",
    "%sql select distinct(NAME), COLTYPE, LENGTH from SYSIBM.SYSCOLUMNS where TBNAME = 'SCHOOLS'\n",
    "\n",
    "-->"
   ]
  },
  {
   "cell_type": "markdown",
   "metadata": {},
   "source": [
    "### Questions\n",
    "1. Is the column name for the \"SCHOOL ID\" attribute in upper or mixed case? mixed\n",
    "1. What is the name of \"Community Area Name\" column in your table? Does it have spaces? COMMUNITY_AREA_NAME. No.\n",
    "1. Are there any columns in whose names the spaces and paranthesis (round brackets) have been replaced by the underscore character \"_\"? Yes"
   ]
  },
  {
   "cell_type": "markdown",
   "metadata": {},
   "source": [
    "## Problems\n",
    "\n",
    "### Problem 1\n",
    "\n",
    "How many Elementary Schools are in the dataset?"
   ]
  },
  {
   "cell_type": "code",
   "execution_count": 7,
   "metadata": {
    "tags": []
   },
   "outputs": [
    {
     "output_type": "stream",
     "name": "stdout",
     "text": "* ibm_db_sa://rqw16120:***@dashdb-txn-sbox-yp-dal09-10.services.dal.bluemix.net:50000/BLUDB\nDone.\n"
    },
    {
     "output_type": "execute_result",
     "data": {
      "text/plain": "[(Decimal('462'),)]",
      "text/html": "<table>\n    <tr>\n        <th>1</th>\n    </tr>\n    <tr>\n        <td>462</td>\n    </tr>\n</table>"
     },
     "metadata": {},
     "execution_count": 7
    }
   ],
   "source": [
    "%sql select count(*) from SCHOOLS where \"Elementary, Middle, or High School\" = 'ES';"
   ]
  },
  {
   "cell_type": "code",
   "execution_count": 8,
   "metadata": {},
   "outputs": [
    {
     "output_type": "error",
     "ename": "SyntaxError",
     "evalue": "invalid syntax (<ipython-input-8-de72d0937939>, line 1)",
     "traceback": [
      "\u001b[0;36m  File \u001b[0;32m\"<ipython-input-8-de72d0937939>\"\u001b[0;36m, line \u001b[0;32m1\u001b[0m\n\u001b[0;31m    Double-click __here__ for a hint\u001b[0m\n\u001b[0m                 ^\u001b[0m\n\u001b[0;31mSyntaxError\u001b[0m\u001b[0;31m:\u001b[0m invalid syntax\n"
     ]
    }
   ],
   "source": [
    "Double-click __here__ for a hint\n",
    "\n",
    "<!--\n",
    "Which column specifies the school type e.g. 'ES', 'MS', 'HS'?\n",
    "-->"
   ]
  },
  {
   "cell_type": "markdown",
   "metadata": {},
   "source": [
    "Double-click __here__ for another hint\n",
    "\n",
    "<!--\n",
    "Does the column name have mixed case, spaces or other special characters?\n",
    "If so, ensure you use double quotes around the \"Name of the Column\"\n",
    "-->"
   ]
  },
  {
   "cell_type": "markdown",
   "metadata": {},
   "source": [
    "Double-click __here__ for the solution.\n",
    "\n",
    "<!-- Solution:\n",
    "\n",
    "%sql select count(*) from SCHOOLS where \"Elementary, Middle, or High School\" = 'ES'\n",
    "\n",
    "Correct answer: 462\n",
    "\n",
    "-->"
   ]
  },
  {
   "cell_type": "markdown",
   "metadata": {},
   "source": [
    "### Problem 2\n",
    "\n",
    "What is the highest Safety Score?"
   ]
  },
  {
   "cell_type": "code",
   "execution_count": 9,
   "metadata": {
    "collapsed": true,
    "tags": []
   },
   "outputs": [
    {
     "output_type": "stream",
     "name": "stdout",
     "text": "* ibm_db_sa://rqw16120:***@dashdb-txn-sbox-yp-dal09-10.services.dal.bluemix.net:50000/BLUDB\nDone.\n"
    },
    {
     "output_type": "execute_result",
     "data": {
      "text/plain": "[(99,)]",
      "text/html": "<table>\n    <tr>\n        <th>1</th>\n    </tr>\n    <tr>\n        <td>99</td>\n    </tr>\n</table>"
     },
     "metadata": {},
     "execution_count": 9
    }
   ],
   "source": [
    "%sql select MAX(SAFETY_SCORE) from SCHOOLS;"
   ]
  },
  {
   "cell_type": "markdown",
   "metadata": {},
   "source": [
    "Double-click __here__ for a hint\n",
    "\n",
    "<!--\n",
    "Use the MAX() function\n",
    "-->"
   ]
  },
  {
   "cell_type": "markdown",
   "metadata": {},
   "source": [
    "Double-click __here__ for the solution.\n",
    "\n",
    "<!-- Hint:\n",
    "\n",
    "%sql select MAX(Safety_Score) AS MAX_SAFETY_SCORE from SCHOOLS\n",
    "\n",
    "Correct answer: 99\n",
    "-->\n"
   ]
  },
  {
   "cell_type": "markdown",
   "metadata": {},
   "source": [
    "### Problem 3\n",
    "\n",
    "Which schools have highest Safety Score?"
   ]
  },
  {
   "cell_type": "code",
   "execution_count": 10,
   "metadata": {
    "collapsed": true,
    "tags": []
   },
   "outputs": [
    {
     "output_type": "stream",
     "name": "stdout",
     "text": "* ibm_db_sa://rqw16120:***@dashdb-txn-sbox-yp-dal09-10.services.dal.bluemix.net:50000/BLUDB\nDone.\n"
    },
    {
     "output_type": "execute_result",
     "data": {
      "text/plain": "[('Abraham Lincoln Elementary School',),\n ('Alexander Graham Bell Elementary School',),\n ('Annie Keller Elementary Gifted Magnet School',),\n ('Augustus H Burley Elementary School',),\n ('Edgar Allan Poe Elementary Classical School',),\n ('Edgebrook Elementary School',),\n ('Ellen Mitchell Elementary School',),\n ('James E McDade Elementary Classical School',),\n ('James G Blaine Elementary School',),\n ('LaSalle Elementary Language Academy',),\n ('Mary E Courtenay Elementary Language Arts Center',),\n ('Northside College Preparatory High School',),\n ('Northside Learning Center High School',),\n ('Norwood Park Elementary School',),\n ('Oriole Park Elementary School',),\n ('Sauganash Elementary School',),\n ('Stephen Decatur Classical Elementary School',),\n ('Talman Elementary School',),\n ('Wildwood Elementary School',)]",
      "text/html": "<table>\n    <tr>\n        <th>name_of_school</th>\n    </tr>\n    <tr>\n        <td>Abraham Lincoln Elementary School</td>\n    </tr>\n    <tr>\n        <td>Alexander Graham Bell Elementary School</td>\n    </tr>\n    <tr>\n        <td>Annie Keller Elementary Gifted Magnet School</td>\n    </tr>\n    <tr>\n        <td>Augustus H Burley Elementary School</td>\n    </tr>\n    <tr>\n        <td>Edgar Allan Poe Elementary Classical School</td>\n    </tr>\n    <tr>\n        <td>Edgebrook Elementary School</td>\n    </tr>\n    <tr>\n        <td>Ellen Mitchell Elementary School</td>\n    </tr>\n    <tr>\n        <td>James E McDade Elementary Classical School</td>\n    </tr>\n    <tr>\n        <td>James G Blaine Elementary School</td>\n    </tr>\n    <tr>\n        <td>LaSalle Elementary Language Academy</td>\n    </tr>\n    <tr>\n        <td>Mary E Courtenay Elementary Language Arts Center</td>\n    </tr>\n    <tr>\n        <td>Northside College Preparatory High School</td>\n    </tr>\n    <tr>\n        <td>Northside Learning Center High School</td>\n    </tr>\n    <tr>\n        <td>Norwood Park Elementary School</td>\n    </tr>\n    <tr>\n        <td>Oriole Park Elementary School</td>\n    </tr>\n    <tr>\n        <td>Sauganash Elementary School</td>\n    </tr>\n    <tr>\n        <td>Stephen Decatur Classical Elementary School</td>\n    </tr>\n    <tr>\n        <td>Talman Elementary School</td>\n    </tr>\n    <tr>\n        <td>Wildwood Elementary School</td>\n    </tr>\n</table>"
     },
     "metadata": {},
     "execution_count": 10
    }
   ],
   "source": [
    "%sql SELECT NAME_OF_SCHOOL FROM SCHOOLS WHERE SAFETY_SCORE = (select MAX(SAFETY_SCORE) from SCHOOLS) ORDER BY NAME_OF_SCHOOL;"
   ]
  },
  {
   "cell_type": "markdown",
   "metadata": {},
   "source": [
    "Double-click __here__ for the solution.\n",
    "\n",
    "<!-- Solution:\n",
    "In the previous problem we found out that the highest Safety Score is 99, so we can use that as an input in the where clause:\n",
    "\n",
    "%sql select Name_of_School, Safety_Score from SCHOOLS where Safety_Score = 99\n",
    "\n",
    "or, a better way:\n",
    "\n",
    "%sql select Name_of_School, Safety_Score from SCHOOLS where \\\n",
    "  Safety_Score= (select MAX(Safety_Score) from SCHOOLS)\n",
    "\n",
    "\n",
    "Correct answer: several schools with with Safety Score of 99.\n",
    "-->\n"
   ]
  },
  {
   "cell_type": "markdown",
   "metadata": {},
   "source": [
    "### Problem 4\n",
    "\n",
    "What are the top 10 schools with the highest \"Average Student Attendance\"?\n"
   ]
  },
  {
   "cell_type": "code",
   "execution_count": 11,
   "metadata": {
    "collapsed": true,
    "tags": []
   },
   "outputs": [
    {
     "output_type": "stream",
     "name": "stdout",
     "text": "* ibm_db_sa://rqw16120:***@dashdb-txn-sbox-yp-dal09-10.services.dal.bluemix.net:50000/BLUDB\nDone.\n"
    },
    {
     "output_type": "execute_result",
     "data": {
      "text/plain": "[('John Charles Haines Elementary School', '98.40%'),\n ('James Ward Elementary School', '97.80%'),\n ('Edgar Allan Poe Elementary Classical School', '97.60%'),\n ('Rachel Carson Elementary School', '97.60%'),\n ('Orozco Fine Arts & Sciences Elementary School', '97.60%'),\n ('Annie Keller Elementary Gifted Magnet School', '97.50%'),\n ('Andrew Jackson Elementary Language Academy', '97.40%'),\n ('Lenart Elementary Regional Gifted Center', '97.40%'),\n ('Disney II Magnet School', '97.30%'),\n ('John H Vanderpoel Elementary Magnet School', '97.20%')]",
      "text/html": "<table>\n    <tr>\n        <th>name_of_school</th>\n        <th>average_student_attendance</th>\n    </tr>\n    <tr>\n        <td>John Charles Haines Elementary School</td>\n        <td>98.40%</td>\n    </tr>\n    <tr>\n        <td>James Ward Elementary School</td>\n        <td>97.80%</td>\n    </tr>\n    <tr>\n        <td>Edgar Allan Poe Elementary Classical School</td>\n        <td>97.60%</td>\n    </tr>\n    <tr>\n        <td>Rachel Carson Elementary School</td>\n        <td>97.60%</td>\n    </tr>\n    <tr>\n        <td>Orozco Fine Arts &amp; Sciences Elementary School</td>\n        <td>97.60%</td>\n    </tr>\n    <tr>\n        <td>Annie Keller Elementary Gifted Magnet School</td>\n        <td>97.50%</td>\n    </tr>\n    <tr>\n        <td>Andrew Jackson Elementary Language Academy</td>\n        <td>97.40%</td>\n    </tr>\n    <tr>\n        <td>Lenart Elementary Regional Gifted Center</td>\n        <td>97.40%</td>\n    </tr>\n    <tr>\n        <td>Disney II Magnet School</td>\n        <td>97.30%</td>\n    </tr>\n    <tr>\n        <td>John H Vanderpoel Elementary Magnet School</td>\n        <td>97.20%</td>\n    </tr>\n</table>"
     },
     "metadata": {},
     "execution_count": 11
    }
   ],
   "source": [
    "%sql SELECT NAME_OF_SCHOOL, AVERAGE_STUDENT_ATTENDANCE FROM SCHOOLS WHERE AVERAGE_STUDENT_ATTENDANCE IS NOT NULL ORDER BY AVERAGE_STUDENT_ATTENDANCE DESC LIMIT 10;"
   ]
  },
  {
   "cell_type": "markdown",
   "metadata": {},
   "source": [
    "Double-click __here__ for the solution.\n",
    "\n",
    "<!-- Solution:\n",
    "\n",
    "%sql select Name_of_School, Average_Student_Attendance from SCHOOLS \\\n",
    "    order by Average_Student_Attendance desc nulls last limit 10 \n",
    "\n",
    "-->"
   ]
  },
  {
   "cell_type": "markdown",
   "metadata": {},
   "source": [
    "### Problem 5\n",
    "\n",
    "Retrieve the list of 5 Schools with the lowest Average Student Attendance sorted in ascending order based on attendance"
   ]
  },
  {
   "cell_type": "code",
   "execution_count": 12,
   "metadata": {
    "collapsed": true,
    "tags": []
   },
   "outputs": [
    {
     "output_type": "stream",
     "name": "stdout",
     "text": "* ibm_db_sa://rqw16120:***@dashdb-txn-sbox-yp-dal09-10.services.dal.bluemix.net:50000/BLUDB\nDone.\n"
    },
    {
     "output_type": "execute_result",
     "data": {
      "text/plain": "[('Richard T Crane Technical Preparatory High School', '57.90%'),\n ('Barbara Vick Early Childhood & Family Center', '60.90%'),\n ('Dyett High School', '62.50%'),\n ('Wendell Phillips Academy High School', '63.00%'),\n ('Orr Academy High School', '66.30%')]",
      "text/html": "<table>\n    <tr>\n        <th>name_of_school</th>\n        <th>average_student_attendance</th>\n    </tr>\n    <tr>\n        <td>Richard T Crane Technical Preparatory High School</td>\n        <td>57.90%</td>\n    </tr>\n    <tr>\n        <td>Barbara Vick Early Childhood &amp; Family Center</td>\n        <td>60.90%</td>\n    </tr>\n    <tr>\n        <td>Dyett High School</td>\n        <td>62.50%</td>\n    </tr>\n    <tr>\n        <td>Wendell Phillips Academy High School</td>\n        <td>63.00%</td>\n    </tr>\n    <tr>\n        <td>Orr Academy High School</td>\n        <td>66.30%</td>\n    </tr>\n</table>"
     },
     "metadata": {},
     "execution_count": 12
    }
   ],
   "source": [
    "%sql SELECT NAME_OF_SCHOOL, AVERAGE_STUDENT_ATTENDANCE FROM SCHOOLS WHERE AVERAGE_STUDENT_ATTENDANCE IS NOT NULL ORDER BY AVERAGE_STUDENT_ATTENDANCE ASC LIMIT 5;"
   ]
  },
  {
   "cell_type": "markdown",
   "metadata": {},
   "source": [
    "Double-click __here__ for the solution.\n",
    "\n",
    "<!-- Solution:\n",
    "\n",
    "%sql SELECT Name_of_School, Average_Student_Attendance  \\\n",
    "     from SCHOOLS \\\n",
    "     order by Average_Student_Attendance \\\n",
    "     fetch first 5 rows only\n",
    "\n",
    "-->\n"
   ]
  },
  {
   "cell_type": "markdown",
   "metadata": {},
   "source": [
    "### Problem 6\n",
    "\n",
    "Now remove the '%' sign from the above result set for Average Student Attendance column"
   ]
  },
  {
   "cell_type": "code",
   "execution_count": 16,
   "metadata": {
    "collapsed": true,
    "tags": []
   },
   "outputs": [
    {
     "output_type": "stream",
     "name": "stdout",
     "text": "* ibm_db_sa://rqw16120:***@dashdb-txn-sbox-yp-dal09-10.services.dal.bluemix.net:50000/BLUDB\nDone.\n"
    },
    {
     "output_type": "execute_result",
     "data": {
      "text/plain": "[('Richard T Crane Technical Preparatory High School', '57.90'),\n ('Barbara Vick Early Childhood & Family Center', '60.90'),\n ('Dyett High School', '62.50'),\n ('Wendell Phillips Academy High School', '63.00'),\n ('Orr Academy High School', '66.30')]",
      "text/html": "<table>\n    <tr>\n        <th>name_of_school</th>\n        <th>average_student_attendance</th>\n    </tr>\n    <tr>\n        <td>Richard T Crane Technical Preparatory High School</td>\n        <td>57.90</td>\n    </tr>\n    <tr>\n        <td>Barbara Vick Early Childhood &amp; Family Center</td>\n        <td>60.90</td>\n    </tr>\n    <tr>\n        <td>Dyett High School</td>\n        <td>62.50</td>\n    </tr>\n    <tr>\n        <td>Wendell Phillips Academy High School</td>\n        <td>63.00</td>\n    </tr>\n    <tr>\n        <td>Orr Academy High School</td>\n        <td>66.30</td>\n    </tr>\n</table>"
     },
     "metadata": {},
     "execution_count": 16
    }
   ],
   "source": [
    "%sql SELECT NAME_OF_SCHOOL, REPLACE(AVERAGE_STUDENT_ATTENDANCE, '%', '') AS average_student_attendance FROM SCHOOLS WHERE AVERAGE_STUDENT_ATTENDANCE IS NOT NULL ORDER BY AVERAGE_STUDENT_ATTENDANCE LIMIT 5 ;"
   ]
  },
  {
   "cell_type": "markdown",
   "metadata": {},
   "source": [
    "Double-click __here__ for a hint\n",
    "\n",
    "<!--\n",
    "Use the REPLACE() function to replace '%' with ''\n",
    "See documentation for this function at:\n",
    "https://www.ibm.com/support/knowledgecenter/en/SSEPGG_10.5.0/com.ibm.db2.luw.sql.ref.doc/doc/r0000843.html\n",
    "-->"
   ]
  },
  {
   "cell_type": "markdown",
   "metadata": {},
   "source": [
    "Double-click __here__ for the solution.\n",
    "\n",
    "<!-- Hint:\n",
    "\n",
    "%sql SELECT Name_of_School, REPLACE(Average_Student_Attendance, '%', '') \\\n",
    "     from SCHOOLS \\\n",
    "     order by Average_Student_Attendance \\\n",
    "     fetch first 5 rows only\n",
    "\n",
    "-->\n"
   ]
  },
  {
   "cell_type": "markdown",
   "metadata": {},
   "source": [
    "### Problem 7\n",
    "\n",
    "Which Schools have Average Student Attendance lower than 70%?"
   ]
  },
  {
   "cell_type": "code",
   "execution_count": 24,
   "metadata": {
    "collapsed": true,
    "tags": []
   },
   "outputs": [
    {
     "output_type": "stream",
     "name": "stdout",
     "text": "* ibm_db_sa://rqw16120:***@dashdb-txn-sbox-yp-dal09-10.services.dal.bluemix.net:50000/BLUDB\nDone.\n"
    },
    {
     "output_type": "execute_result",
     "data": {
      "text/plain": "[('Richard T Crane Technical Preparatory High School', '57.90%'),\n ('Barbara Vick Early Childhood & Family Center', '60.90%'),\n ('Dyett High School', '62.50%'),\n ('Wendell Phillips Academy High School', '63.00%'),\n ('Orr Academy High School', '66.30%'),\n ('Manley Career Academy High School', '66.80%'),\n ('Chicago Vocational Career Academy High School', '68.80%'),\n ('Roberto Clemente Community Academy High School', '69.60%')]",
      "text/html": "<table>\n    <tr>\n        <th>name_of_school</th>\n        <th>average_student_attendance</th>\n    </tr>\n    <tr>\n        <td>Richard T Crane Technical Preparatory High School</td>\n        <td>57.90%</td>\n    </tr>\n    <tr>\n        <td>Barbara Vick Early Childhood &amp; Family Center</td>\n        <td>60.90%</td>\n    </tr>\n    <tr>\n        <td>Dyett High School</td>\n        <td>62.50%</td>\n    </tr>\n    <tr>\n        <td>Wendell Phillips Academy High School</td>\n        <td>63.00%</td>\n    </tr>\n    <tr>\n        <td>Orr Academy High School</td>\n        <td>66.30%</td>\n    </tr>\n    <tr>\n        <td>Manley Career Academy High School</td>\n        <td>66.80%</td>\n    </tr>\n    <tr>\n        <td>Chicago Vocational Career Academy High School</td>\n        <td>68.80%</td>\n    </tr>\n    <tr>\n        <td>Roberto Clemente Community Academy High School</td>\n        <td>69.60%</td>\n    </tr>\n</table>"
     },
     "metadata": {},
     "execution_count": 24
    }
   ],
   "source": [
    "%sql SELECT NAME_OF_SCHOOL, AVERAGE_STUDENT_ATTENDANCE FROM SCHOOLS WHERE AVERAGE_STUDENT_ATTENDANCE < '70.00%' ORDER BY AVERAGE_STUDENT_ATTENDANCE;"
   ]
  },
  {
   "cell_type": "markdown",
   "metadata": {},
   "source": [
    "Double-click __here__ for a hint\n",
    "\n",
    "<!--\n",
    "The datatype of the \"Average_Student_Attendance\" column is varchar.\n",
    "So you cannot use it as is in the where clause for a numeric comparison.\n",
    "First use the CAST() function to cast it as a DECIMAL or DOUBLE\n",
    "e.g. CAST(\"Column_Name\" as DOUBLE)\n",
    "or simply: DECIMAL(\"Column_Name\")\n",
    "-->"
   ]
  },
  {
   "cell_type": "markdown",
   "metadata": {},
   "source": [
    "Double-click __here__ for another hint\n",
    "\n",
    "<!--\n",
    "Don't forget the '%' age sign needs to be removed before casting\n",
    "-->"
   ]
  },
  {
   "cell_type": "markdown",
   "metadata": {},
   "source": [
    "Double-click __here__ for the solution.\n",
    "\n",
    "<!-- Solution:\n",
    "\n",
    "%sql SELECT Name_of_School, Average_Student_Attendance  \\\n",
    "     from SCHOOLS \\\n",
    "     where CAST ( REPLACE(Average_Student_Attendance, '%', '') AS DOUBLE ) < 70 \\\n",
    "     order by Average_Student_Attendance\n",
    "     \n",
    "or,\n",
    "\n",
    "%sql SELECT Name_of_School, Average_Student_Attendance  \\\n",
    "     from SCHOOLS \\\n",
    "     where DECIMAL ( REPLACE(Average_Student_Attendance, '%', '') ) < 70 \\\n",
    "     order by Average_Student_Attendance\n",
    "\n",
    "-->\n"
   ]
  },
  {
   "cell_type": "markdown",
   "metadata": {},
   "source": [
    "### Problem 8\n",
    "\n",
    "Get the total College Enrollment for each Community Area"
   ]
  },
  {
   "cell_type": "code",
   "execution_count": 30,
   "metadata": {
    "collapsed": true,
    "tags": []
   },
   "outputs": [
    {
     "output_type": "stream",
     "name": "stdout",
     "text": "* ibm_db_sa://rqw16120:***@dashdb-txn-sbox-yp-dal09-10.services.dal.bluemix.net:50000/BLUDB\nDone.\n"
    },
    {
     "output_type": "execute_result",
     "data": {
      "text/plain": "[('ALBANY PARK', 6864),\n ('ARCHER HEIGHTS', 4823),\n ('ARMOUR SQUARE', 1458),\n ('ASHBURN', 6483),\n ('AUBURN GRESHAM', 4175),\n ('AUSTIN', 10933),\n ('AVALON PARK', 1522),\n ('AVONDALE', 3640),\n ('BELMONT CRAGIN', 14386),\n ('BEVERLY', 1636),\n ('BRIDGEPORT', 3167),\n ('BRIGHTON PARK', 9647),\n ('BURNSIDE', 549),\n ('CALUMET HEIGHTS', 1568),\n ('CHATHAM', 5042),\n ('CHICAGO LAWN', 7086),\n ('CLEARING', 2085),\n ('DOUGLAS', 4670),\n ('DUNNING', 4568),\n ('EAST GARFIELD PARK', 5337),\n ('EAST SIDE', 5305),\n ('EDGEWATER', 4600),\n ('EDISON PARK', 910),\n ('ENGLEWOOD', 6832),\n ('FOREST GLEN', 1431),\n ('FULLER PARK', 531),\n ('GAGE PARK', 9915),\n ('GARFIELD RIDGE', 4552),\n ('GRAND BOULEVARD', 2809),\n ('GREATER GRAND CROSSING', 4051),\n ('HEGEWISCH', 963),\n ('HERMOSA', 3975),\n ('HUMBOLDT PARK', 8620),\n ('HYDE PARK', 1930),\n ('IRVING PARK', 7764),\n ('JEFFERSON PARK', 1755),\n ('KENWOOD', 4287),\n ('LAKE VIEW', 7055),\n ('LINCOLN PARK', 5615),\n ('LINCOLN SQUARE', 4132),\n ('LOGAN SQUARE', 7351),\n ('LOOP', 871),\n ('LOWER WEST SIDE', 7257),\n ('MCKINLEY PARK', 1552),\n ('MONTCLARE', 1317),\n ('MORGAN PARK', 3271),\n ('MOUNT GREENWOOD', 2091),\n ('NEAR NORTH SIDE', 3362),\n ('NEAR SOUTH SIDE', 1378),\n ('NEAR WEST SIDE', 7975),\n ('NEW CITY', 7922),\n ('NORTH CENTER', 7541),\n ('NORTH LAWNDALE', 5146),\n ('NORTH PARK', 4210),\n ('NORWOOD PARK', 6469),\n ('OAKLAND', 140),\n ('OHARE', 786),\n ('PORTAGE PARK', 6954),\n ('PULLMAN', 1620),\n ('RIVERDALE', 1547),\n ('ROGERS PARK', 4068),\n ('ROSELAND', 7020),\n ('SOUTH CHICAGO', 4043),\n ('SOUTH DEERING', 1859),\n ('SOUTH LAWNDALE', 14793),\n ('SOUTH SHORE', 4543),\n ('UPTOWN', 4388),\n ('WASHINGTON HEIGHTS', 4006),\n ('WASHINGTON PARK', 2648),\n ('WEST ELSDON', 3700),\n ('WEST ENGLEWOOD', 5946),\n ('WEST GARFIELD PARK', 2622),\n ('WEST LAWN', 4207),\n ('WEST PULLMAN', 3240),\n ('WEST RIDGE', 8197),\n ('WEST TOWN', 9429),\n ('WOODLAWN', 4206)]",
      "text/html": "<table>\n    <tr>\n        <th>community_area_name</th>\n        <th>2</th>\n    </tr>\n    <tr>\n        <td>ALBANY PARK</td>\n        <td>6864</td>\n    </tr>\n    <tr>\n        <td>ARCHER HEIGHTS</td>\n        <td>4823</td>\n    </tr>\n    <tr>\n        <td>ARMOUR SQUARE</td>\n        <td>1458</td>\n    </tr>\n    <tr>\n        <td>ASHBURN</td>\n        <td>6483</td>\n    </tr>\n    <tr>\n        <td>AUBURN GRESHAM</td>\n        <td>4175</td>\n    </tr>\n    <tr>\n        <td>AUSTIN</td>\n        <td>10933</td>\n    </tr>\n    <tr>\n        <td>AVALON PARK</td>\n        <td>1522</td>\n    </tr>\n    <tr>\n        <td>AVONDALE</td>\n        <td>3640</td>\n    </tr>\n    <tr>\n        <td>BELMONT CRAGIN</td>\n        <td>14386</td>\n    </tr>\n    <tr>\n        <td>BEVERLY</td>\n        <td>1636</td>\n    </tr>\n    <tr>\n        <td>BRIDGEPORT</td>\n        <td>3167</td>\n    </tr>\n    <tr>\n        <td>BRIGHTON PARK</td>\n        <td>9647</td>\n    </tr>\n    <tr>\n        <td>BURNSIDE</td>\n        <td>549</td>\n    </tr>\n    <tr>\n        <td>CALUMET HEIGHTS</td>\n        <td>1568</td>\n    </tr>\n    <tr>\n        <td>CHATHAM</td>\n        <td>5042</td>\n    </tr>\n    <tr>\n        <td>CHICAGO LAWN</td>\n        <td>7086</td>\n    </tr>\n    <tr>\n        <td>CLEARING</td>\n        <td>2085</td>\n    </tr>\n    <tr>\n        <td>DOUGLAS</td>\n        <td>4670</td>\n    </tr>\n    <tr>\n        <td>DUNNING</td>\n        <td>4568</td>\n    </tr>\n    <tr>\n        <td>EAST GARFIELD PARK</td>\n        <td>5337</td>\n    </tr>\n    <tr>\n        <td>EAST SIDE</td>\n        <td>5305</td>\n    </tr>\n    <tr>\n        <td>EDGEWATER</td>\n        <td>4600</td>\n    </tr>\n    <tr>\n        <td>EDISON PARK</td>\n        <td>910</td>\n    </tr>\n    <tr>\n        <td>ENGLEWOOD</td>\n        <td>6832</td>\n    </tr>\n    <tr>\n        <td>FOREST GLEN</td>\n        <td>1431</td>\n    </tr>\n    <tr>\n        <td>FULLER PARK</td>\n        <td>531</td>\n    </tr>\n    <tr>\n        <td>GAGE PARK</td>\n        <td>9915</td>\n    </tr>\n    <tr>\n        <td>GARFIELD RIDGE</td>\n        <td>4552</td>\n    </tr>\n    <tr>\n        <td>GRAND BOULEVARD</td>\n        <td>2809</td>\n    </tr>\n    <tr>\n        <td>GREATER GRAND CROSSING</td>\n        <td>4051</td>\n    </tr>\n    <tr>\n        <td>HEGEWISCH</td>\n        <td>963</td>\n    </tr>\n    <tr>\n        <td>HERMOSA</td>\n        <td>3975</td>\n    </tr>\n    <tr>\n        <td>HUMBOLDT PARK</td>\n        <td>8620</td>\n    </tr>\n    <tr>\n        <td>HYDE PARK</td>\n        <td>1930</td>\n    </tr>\n    <tr>\n        <td>IRVING PARK</td>\n        <td>7764</td>\n    </tr>\n    <tr>\n        <td>JEFFERSON PARK</td>\n        <td>1755</td>\n    </tr>\n    <tr>\n        <td>KENWOOD</td>\n        <td>4287</td>\n    </tr>\n    <tr>\n        <td>LAKE VIEW</td>\n        <td>7055</td>\n    </tr>\n    <tr>\n        <td>LINCOLN PARK</td>\n        <td>5615</td>\n    </tr>\n    <tr>\n        <td>LINCOLN SQUARE</td>\n        <td>4132</td>\n    </tr>\n    <tr>\n        <td>LOGAN SQUARE</td>\n        <td>7351</td>\n    </tr>\n    <tr>\n        <td>LOOP</td>\n        <td>871</td>\n    </tr>\n    <tr>\n        <td>LOWER WEST SIDE</td>\n        <td>7257</td>\n    </tr>\n    <tr>\n        <td>MCKINLEY PARK</td>\n        <td>1552</td>\n    </tr>\n    <tr>\n        <td>MONTCLARE</td>\n        <td>1317</td>\n    </tr>\n    <tr>\n        <td>MORGAN PARK</td>\n        <td>3271</td>\n    </tr>\n    <tr>\n        <td>MOUNT GREENWOOD</td>\n        <td>2091</td>\n    </tr>\n    <tr>\n        <td>NEAR NORTH SIDE</td>\n        <td>3362</td>\n    </tr>\n    <tr>\n        <td>NEAR SOUTH SIDE</td>\n        <td>1378</td>\n    </tr>\n    <tr>\n        <td>NEAR WEST SIDE</td>\n        <td>7975</td>\n    </tr>\n    <tr>\n        <td>NEW CITY</td>\n        <td>7922</td>\n    </tr>\n    <tr>\n        <td>NORTH CENTER</td>\n        <td>7541</td>\n    </tr>\n    <tr>\n        <td>NORTH LAWNDALE</td>\n        <td>5146</td>\n    </tr>\n    <tr>\n        <td>NORTH PARK</td>\n        <td>4210</td>\n    </tr>\n    <tr>\n        <td>NORWOOD PARK</td>\n        <td>6469</td>\n    </tr>\n    <tr>\n        <td>OAKLAND</td>\n        <td>140</td>\n    </tr>\n    <tr>\n        <td>OHARE</td>\n        <td>786</td>\n    </tr>\n    <tr>\n        <td>PORTAGE PARK</td>\n        <td>6954</td>\n    </tr>\n    <tr>\n        <td>PULLMAN</td>\n        <td>1620</td>\n    </tr>\n    <tr>\n        <td>RIVERDALE</td>\n        <td>1547</td>\n    </tr>\n    <tr>\n        <td>ROGERS PARK</td>\n        <td>4068</td>\n    </tr>\n    <tr>\n        <td>ROSELAND</td>\n        <td>7020</td>\n    </tr>\n    <tr>\n        <td>SOUTH CHICAGO</td>\n        <td>4043</td>\n    </tr>\n    <tr>\n        <td>SOUTH DEERING</td>\n        <td>1859</td>\n    </tr>\n    <tr>\n        <td>SOUTH LAWNDALE</td>\n        <td>14793</td>\n    </tr>\n    <tr>\n        <td>SOUTH SHORE</td>\n        <td>4543</td>\n    </tr>\n    <tr>\n        <td>UPTOWN</td>\n        <td>4388</td>\n    </tr>\n    <tr>\n        <td>WASHINGTON HEIGHTS</td>\n        <td>4006</td>\n    </tr>\n    <tr>\n        <td>WASHINGTON PARK</td>\n        <td>2648</td>\n    </tr>\n    <tr>\n        <td>WEST ELSDON</td>\n        <td>3700</td>\n    </tr>\n    <tr>\n        <td>WEST ENGLEWOOD</td>\n        <td>5946</td>\n    </tr>\n    <tr>\n        <td>WEST GARFIELD PARK</td>\n        <td>2622</td>\n    </tr>\n    <tr>\n        <td>WEST LAWN</td>\n        <td>4207</td>\n    </tr>\n    <tr>\n        <td>WEST PULLMAN</td>\n        <td>3240</td>\n    </tr>\n    <tr>\n        <td>WEST RIDGE</td>\n        <td>8197</td>\n    </tr>\n    <tr>\n        <td>WEST TOWN</td>\n        <td>9429</td>\n    </tr>\n    <tr>\n        <td>WOODLAWN</td>\n        <td>4206</td>\n    </tr>\n</table>"
     },
     "metadata": {},
     "execution_count": 30
    }
   ],
   "source": [
    "%sql select COMMUNITY_AREA_NAME, SUM(COLLEGE_ENROLLMENT) FROM SCHOOLS GROUP BY COMMUNITY_AREA_NAME;"
   ]
  },
  {
   "cell_type": "markdown",
   "metadata": {},
   "source": [
    "Double-click __here__ for a hint\n",
    "\n",
    "<!--\n",
    "Verify the exact name of the Enrollment column in the database\n",
    "Use the SUM() function to add up the Enrollments for each Community Area\n",
    "-->"
   ]
  },
  {
   "cell_type": "markdown",
   "metadata": {},
   "source": [
    "Double-click __here__ for another hint\n",
    "\n",
    "<!--\n",
    "Don't forget to group by the Community Area\n",
    "-->"
   ]
  },
  {
   "cell_type": "markdown",
   "metadata": {},
   "source": [
    "Double-click __here__ for the solution.\n",
    "\n",
    "<!-- Solution:\n",
    "\n",
    "%sql select Community_Area_Name, sum(College_Enrollment) AS TOTAL_ENROLLMENT \\\n",
    "   from SCHOOLS \\\n",
    "   group by Community_Area_Name \n",
    "\n",
    "-->\n"
   ]
  },
  {
   "cell_type": "markdown",
   "metadata": {},
   "source": [
    "### Problem 9\n",
    "\n",
    "Get the 5 Community Areas with the least total College Enrollment  sorted in ascending order "
   ]
  },
  {
   "cell_type": "code",
   "execution_count": 34,
   "metadata": {
    "collapsed": true,
    "tags": []
   },
   "outputs": [
    {
     "output_type": "stream",
     "name": "stdout",
     "text": "* ibm_db_sa://rqw16120:***@dashdb-txn-sbox-yp-dal09-10.services.dal.bluemix.net:50000/BLUDB\nDone.\n"
    },
    {
     "output_type": "execute_result",
     "data": {
      "text/plain": "[('OAKLAND', 140),\n ('FULLER PARK', 531),\n ('BURNSIDE', 549),\n ('OHARE', 786),\n ('LOOP', 871)]",
      "text/html": "<table>\n    <tr>\n        <th>community_area_name</th>\n        <th>total_college_enrollment</th>\n    </tr>\n    <tr>\n        <td>OAKLAND</td>\n        <td>140</td>\n    </tr>\n    <tr>\n        <td>FULLER PARK</td>\n        <td>531</td>\n    </tr>\n    <tr>\n        <td>BURNSIDE</td>\n        <td>549</td>\n    </tr>\n    <tr>\n        <td>OHARE</td>\n        <td>786</td>\n    </tr>\n    <tr>\n        <td>LOOP</td>\n        <td>871</td>\n    </tr>\n</table>"
     },
     "metadata": {},
     "execution_count": 34
    }
   ],
   "source": [
    "%sql select COMMUNITY_AREA_NAME, SUM(COLLEGE_ENROLLMENT) AS \"total_college_enrollment\" FROM SCHOOLS GROUP BY COMMUNITY_AREA_NAME ORDER BY 2 LIMIT 5;"
   ]
  },
  {
   "cell_type": "markdown",
   "metadata": {},
   "source": [
    "Double-click __here__ for a hint\n",
    "\n",
    "<!--\n",
    "Order the previous query and limit the number of rows you fetch\n",
    "-->"
   ]
  },
  {
   "cell_type": "markdown",
   "metadata": {},
   "source": [
    "Double-click __here__ for the solution.\n",
    "\n",
    "<!-- Solution:\n",
    "\n",
    "%sql select Community_Area_Name, sum(College_Enrollment) AS TOTAL_ENROLLMENT \\\n",
    "   from SCHOOLS \\\n",
    "   group by Community_Area_Name \\\n",
    "   order by TOTAL_ENROLLMENT asc \\\n",
    "   fetch first 5 rows only\n",
    "\n",
    "-->"
   ]
  },
  {
   "cell_type": "markdown",
   "metadata": {},
   "source": [
    "### Problem 10\n",
    "\n",
    "Get the hardship index for the community area which has College Enrollment of 4638"
   ]
  },
  {
   "cell_type": "code",
   "execution_count": 71,
   "metadata": {
    "tags": []
   },
   "outputs": [
    {
     "output_type": "stream",
     "name": "stdout",
     "text": "* ibm_db_sa://rqw16120:***@dashdb-txn-sbox-yp-dal09-10.services.dal.bluemix.net:50000/BLUDB\nDone.\n"
    },
    {
     "output_type": "execute_result",
     "data": {
      "text/plain": "[(6, 'NORTH CENTER', 4368)]",
      "text/html": "<table>\n    <tr>\n        <th>hardship_index</th>\n        <th>community_area_name</th>\n        <th>college_enrollment</th>\n    </tr>\n    <tr>\n        <td>6</td>\n        <td>NORTH CENTER</td>\n        <td>4368</td>\n    </tr>\n</table>"
     },
     "metadata": {},
     "execution_count": 71
    }
   ],
   "source": [
    "%sql select H.HARDSHIP_INDEX, S.COMMUNITY_AREA_NAME, S.COLLEGE_ENROLLMENT from HARDSHIP H, SCHOOLS S WHERE LOWER(H.COMMUNITY_AREA_NAME) = LOWER(S.COMMUNITY_AREA_NAME) AND S.COLLEGE_ENROLLMENT = '4368';"
   ]
  },
  {
   "cell_type": "markdown",
   "metadata": {},
   "source": [
    "Double-click __here__ for the solution.\n",
    "\n",
    "<!-- Solution:\n",
    "NOTE: For this solution to work the CHICAGO_SOCIOECONOMIC_DATA table \n",
    "      as created in the last lab of Week 3 should already exist\n",
    "\n",
    "%%sql \n",
    "select hardship_index \n",
    "   from chicago_socioeconomic_data CD, schools CPS \n",
    "   where CD.ca = CPS.community_area_number \n",
    "      and college_enrollment = 4368\n",
    "\n",
    "-->"
   ]
  },
  {
   "cell_type": "markdown",
   "metadata": {},
   "source": [
    "### Problem 11\n",
    "\n",
    "Get the hardship index for the community area which has the highest value for College Enrollment"
   ]
  },
  {
   "cell_type": "code",
   "execution_count": 72,
   "metadata": {
    "tags": []
   },
   "outputs": [
    {
     "output_type": "stream",
     "name": "stdout",
     "text": "* ibm_db_sa://rqw16120:***@dashdb-txn-sbox-yp-dal09-10.services.dal.bluemix.net:50000/BLUDB\nDone.\n"
    },
    {
     "output_type": "execute_result",
     "data": {
      "text/plain": "[(6, 'NORTH CENTER', 4368)]",
      "text/html": "<table>\n    <tr>\n        <th>hardship_index</th>\n        <th>community_area_name</th>\n        <th>college_enrollment</th>\n    </tr>\n    <tr>\n        <td>6</td>\n        <td>NORTH CENTER</td>\n        <td>4368</td>\n    </tr>\n</table>"
     },
     "metadata": {},
     "execution_count": 72
    }
   ],
   "source": [
    "%sql select H.HARDSHIP_INDEX, S.COMMUNITY_AREA_NAME, S.COLLEGE_ENROLLMENT from HARDSHIP H, SCHOOLS S WHERE LOWER(H.COMMUNITY_AREA_NAME) = LOWER(S.COMMUNITY_AREA_NAME) AND S.COLLEGE_ENROLLMENT = (select MAX(COLLEGE_ENROLLMENT) from SCHOOLS);"
   ]
  },
  {
   "cell_type": "markdown",
   "metadata": {},
   "source": [
    "Double-click __here__ for the solution.\n",
    "\n",
    "<!-- Solution:\n",
    "NOTE: For this solution to work the CHICAGO_SOCIOECONOMIC_DATA table \n",
    "      as created in the last lab of Week 3 should already exist\n",
    "\n",
    "%sql select ca, community_area_name, hardship_index from chicago_socioeconomic_data \\\n",
    "   where ca in \\\n",
    "   ( select community_area_number from schools order by college_enrollment desc limit 1 )\n",
    "\n",
    "-->"
   ]
  },
  {
   "cell_type": "markdown",
   "metadata": {},
   "source": [
    "## Summary\n",
    "\n",
    "In this lab you learned how to work with a real word dataset using SQL and Python. You learned how to query columns with spaces or special characters in their names and with mixed case names. You also used built in database functions and practiced how to sort, limit, and order result sets, as well as used sub-queries and worked with multiple tables."
   ]
  },
  {
   "cell_type": "markdown",
   "metadata": {},
   "source": [
    "Copyright &copy; 2018 [cognitiveclass.ai](cognitiveclass.ai?utm_source=bducopyrightlink&utm_medium=dswb&utm_campaign=bdu). This notebook and its source code are released under the terms of the [MIT License](https://bigdatauniversity.com/mit-license/).\n"
   ]
  }
 ],
 "metadata": {
  "kernelspec": {
   "display_name": "Python 3.8.5 64-bit",
   "language": "python",
   "name": "python_defaultSpec_1596426547610"
  },
  "language_info": {
   "codemirror_mode": {
    "name": "ipython",
    "version": 3
   },
   "file_extension": ".py",
   "mimetype": "text/x-python",
   "name": "python",
   "nbconvert_exporter": "python",
   "pygments_lexer": "ipython3",
   "version": "3.6.6"
  },
  "widgets": {
   "state": {},
   "version": "1.1.2"
  }
 },
 "nbformat": 4,
 "nbformat_minor": 2
}