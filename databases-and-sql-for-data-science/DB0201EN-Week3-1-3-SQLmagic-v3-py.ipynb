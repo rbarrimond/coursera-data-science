{
 "cells": [
  {
   "cell_type": "markdown",
   "metadata": {},
   "source": [
    "<a href=\"https://www.bigdatauniversity.com\"><img src = \"https://ibm.box.com/shared/static/ugcqz6ohbvff804xp84y4kqnvvk3bq1g.png\" width = 300, align = \"center\"></a>\n",
    "\n",
    "<h1 align=center><font size = 5>Accessing Databases with SQL Magic</font></h1>"
   ]
  },
  {
   "cell_type": "markdown",
   "metadata": {},
   "source": [
    "After using this notebook, you will know how to perform simplified database access using SQL \"magic\". You will connect to a Db2 database, issue SQL commands to create tables, insert data, and run queries, as well as retrieve results in a Python dataframe. "
   ]
  },
  {
   "cell_type": "markdown",
   "metadata": {},
   "source": [
    "To communicate with SQL Databases from within a JupyterLab notebook, we can use the SQL \"magic\" provided by the [ipython-sql](https://github.com/catherinedevlin/ipython-sql) extension. \"Magic\" is JupyterLab's term for special commands that start with \"%\". Below, we'll use the _load_\\__ext_ magic to load the ipython-sql extension. In the lab environemnt provided in the course the ipython-sql extension is already installed and so is the ibm_db_sa driver. "
   ]
  },
  {
   "cell_type": "code",
   "execution_count": 1,
   "metadata": {
    "tags": []
   },
   "outputs": [],
   "source": [
    "%load_ext sql"
   ]
  },
  {
   "cell_type": "markdown",
   "metadata": {},
   "source": [
    "Now we have access to SQL magic. With our first SQL magic command, we'll connect to a Db2 database. However, in order to do that, you'll first need to retrieve or create your credentials to access your Db2 database."
   ]
  },
  {
   "cell_type": "markdown",
   "metadata": {},
   "source": [
    "<a ><img src = \"https://ibm.box.com/shared/static/uy78gy1uq3uj6fkvd4muzy5zcr62tb72.png\" width = 1000, align = \"center\"></a>\n",
    "\n",
    "\n",
    "This image shows the location of your connection string if you're using Db2 on IBM Cloud. If you're using another host the format is: username:password@hostname:port/database-name"
   ]
  },
  {
   "cell_type": "code",
   "execution_count": 2,
   "metadata": {
    "tags": []
   },
   "outputs": [],
   "source": [
    "# Enter your Db2 credentials in the connection string below\n",
    "# Recall you created Service Credentials in Part III of the first lab of the course in Week 1\n",
    "# i.e. from the uri field in the Service Credentials copy everything after db2:// (but remove the double quote at the end)\n",
    "# for example, if your credentials are as in the screenshot above, you would write:\n",
    "# %sql ibm_db_sa://my-username:my-password@dashdb-txn-sbox-yp-dal09-03.services.dal.bluemix.net:50000/BLUDB\n",
    "# Note the ibm_db_sa:// prefix instead of db2://\n",
    "# This is because JupyterLab's ipython-sql extension uses sqlalchemy (a python SQL toolkit)\n",
    "# which in turn uses IBM's sqlalchemy dialect: ibm_db_sa\n",
    "%sql ibm_db_sa://rqw16120:r6n1nx4-gbh4jqbt@dashdb-txn-sbox-yp-dal09-10.services.dal.bluemix.net:50000/BLUDB"
   ]
  },
  {
   "cell_type": "markdown",
   "metadata": {},
   "source": [
    "For convenience, we can use %%sql (two %'s instead of one) at the top of a cell to indicate we want the entire cell to be treated as SQL. Let's use this to create a table and fill it with some test data for experimenting."
   ]
  },
  {
   "cell_type": "code",
   "execution_count": 3,
   "metadata": {
    "tags": []
   },
   "outputs": [
    {
     "output_type": "stream",
     "name": "stdout",
     "text": "* ibm_db_sa://rqw16120:***@dashdb-txn-sbox-yp-dal09-10.services.dal.bluemix.net:50000/BLUDB\nDone.\n99 rows affected.\n"
    },
    {
     "output_type": "execute_result",
     "data": {
      "text/plain": "[]"
     },
     "metadata": {},
     "execution_count": 3
    }
   ],
   "source": [
    "%%sql\n",
    "\n",
    "CREATE TABLE INTERNATIONAL_STUDENT_TEST_SCORES (\n",
    "\tcountry VARCHAR(50),\n",
    "\tfirst_name VARCHAR(50),\n",
    "\tlast_name VARCHAR(50),\n",
    "\ttest_score INT\n",
    ");\n",
    "INSERT INTO INTERNATIONAL_STUDENT_TEST_SCORES (country, first_name, last_name, test_score)\n",
    "VALUES\n",
    "('United States', 'Marshall', 'Bernadot', 54),\n",
    "('Ghana', 'Celinda', 'Malkin', 51),\n",
    "('Ukraine', 'Guillermo', 'Furze', 53),\n",
    "('Greece', 'Aharon', 'Tunnow', 48),\n",
    "('Russia', 'Bail', 'Goodwin', 46),\n",
    "('Poland', 'Cole', 'Winteringham', 49),\n",
    "('Sweden', 'Emlyn', 'Erricker', 55),\n",
    "('Russia', 'Cathee', 'Sivewright', 49),\n",
    "('China', 'Barny', 'Ingerson', 57),\n",
    "('Uganda', 'Sharla', 'Papaccio', 55),\n",
    "('China', 'Stella', 'Youens', 51),\n",
    "('Poland', 'Julio', 'Buesden', 48),\n",
    "('United States', 'Tiffie', 'Cosely', 58),\n",
    "('Poland', 'Auroora', 'Stiffell', 45),\n",
    "('China', 'Clarita', 'Huet', 52),\n",
    "('Poland', 'Shannon', 'Goulden', 45),\n",
    "('Philippines', 'Emylee', 'Privost', 50),\n",
    "('France', 'Madelina', 'Burk', 49),\n",
    "('China', 'Saunderson', 'Root', 58),\n",
    "('Indonesia', 'Bo', 'Waring', 55),\n",
    "('China', 'Hollis', 'Domotor', 45),\n",
    "('Russia', 'Robbie', 'Collip', 46),\n",
    "('Philippines', 'Davon', 'Donisi', 46),\n",
    "('China', 'Cristabel', 'Radeliffe', 48),\n",
    "('China', 'Wallis', 'Bartleet', 58),\n",
    "('Moldova', 'Arleen', 'Stailey', 38),\n",
    "('Ireland', 'Mendel', 'Grumble', 58),\n",
    "('China', 'Sallyann', 'Exley', 51),\n",
    "('Mexico', 'Kain', 'Swaite', 46),\n",
    "('Indonesia', 'Alonso', 'Bulteel', 45),\n",
    "('Armenia', 'Anatol', 'Tankus', 51),\n",
    "('Indonesia', 'Coralyn', 'Dawkins', 48),\n",
    "('China', 'Deanne', 'Edwinson', 45),\n",
    "('China', 'Georgiana', 'Epple', 51),\n",
    "('Portugal', 'Bartlet', 'Breese', 56),\n",
    "('Azerbaijan', 'Idalina', 'Lukash', 50),\n",
    "('France', 'Livvie', 'Flory', 54),\n",
    "('Malaysia', 'Nonie', 'Borit', 48),\n",
    "('Indonesia', 'Clio', 'Mugg', 47),\n",
    "('Brazil', 'Westley', 'Measor', 48),\n",
    "('Philippines', 'Katrinka', 'Sibbert', 51),\n",
    "('Poland', 'Valentia', 'Mounch', 50),\n",
    "('Norway', 'Sheilah', 'Hedditch', 53),\n",
    "('Papua New Guinea', 'Itch', 'Jubb', 50),\n",
    "('Latvia', 'Stesha', 'Garnson', 53),\n",
    "('Canada', 'Cristionna', 'Wadmore', 46),\n",
    "('China', 'Lianna', 'Gatward', 43),\n",
    "('Guatemala', 'Tanney', 'Vials', 48),\n",
    "('France', 'Alma', 'Zavittieri', 44),\n",
    "('China', 'Alvira', 'Tamas', 50),\n",
    "('United States', 'Shanon', 'Peres', 45),\n",
    "('Sweden', 'Maisey', 'Lynas', 53),\n",
    "('Indonesia', 'Kip', 'Hothersall', 46),\n",
    "('China', 'Cash', 'Landis', 48),\n",
    "('Panama', 'Kennith', 'Digance', 45),\n",
    "('China', 'Ulberto', 'Riggeard', 48),\n",
    "('Switzerland', 'Judy', 'Gilligan', 49),\n",
    "('Philippines', 'Tod', 'Trevaskus', 52),\n",
    "('Brazil', 'Herold', 'Heggs', 44),\n",
    "('Latvia', 'Verney', 'Note', 50),\n",
    "('Poland', 'Temp', 'Ribey', 50),\n",
    "('China', 'Conroy', 'Egdal', 48),\n",
    "('Japan', 'Gabie', 'Alessandone', 47),\n",
    "('Ukraine', 'Devlen', 'Chaperlin', 54),\n",
    "('France', 'Babbette', 'Turner', 51),\n",
    "('Czech Republic', 'Virgil', 'Scotney', 52),\n",
    "('Tajikistan', 'Zorina', 'Bedow', 49),\n",
    "('China', 'Aidan', 'Rudeyeard', 50),\n",
    "('Ireland', 'Saunder', 'MacLice', 48),\n",
    "('France', 'Waly', 'Brunstan', 53),\n",
    "('China', 'Gisele', 'Enns', 52),\n",
    "('Peru', 'Mina', 'Winchester', 48),\n",
    "('Japan', 'Torie', 'MacShirrie', 50),\n",
    "('Russia', 'Benjamen', 'Kenford', 51),\n",
    "('China', 'Etan', 'Burn', 53),\n",
    "('Russia', 'Merralee', 'Chaperlin', 38),\n",
    "('Indonesia', 'Lanny', 'Malam', 49),\n",
    "('Canada', 'Wilhelm', 'Deeprose', 54),\n",
    "('Czech Republic', 'Lari', 'Hillhouse', 48),\n",
    "('China', 'Ossie', 'Woodley', 52),\n",
    "('Macedonia', 'April', 'Tyer', 50),\n",
    "('Vietnam', 'Madelon', 'Dansey', 53),\n",
    "('Ukraine', 'Korella', 'McNamee', 52),\n",
    "('Jamaica', 'Linnea', 'Cannam', 43),\n",
    "('China', 'Mart', 'Coling', 52),\n",
    "('Indonesia', 'Marna', 'Causbey', 47),\n",
    "('China', 'Berni', 'Daintier', 55),\n",
    "('Poland', 'Cynthia', 'Hassell', 49),\n",
    "('Canada', 'Carma', 'Schule', 49),\n",
    "('Indonesia', 'Malia', 'Blight', 48),\n",
    "('China', 'Paulo', 'Seivertsen', 47),\n",
    "('Niger', 'Kaylee', 'Hearley', 54),\n",
    "('Japan', 'Maure', 'Jandak', 46),\n",
    "('Argentina', 'Foss', 'Feavers', 45),\n",
    "('Venezuela', 'Ron', 'Leggitt', 60),\n",
    "('Russia', 'Flint', 'Gokes', 40),\n",
    "('China', 'Linet', 'Conelly', 52),\n",
    "('Philippines', 'Nikolas', 'Birtwell', 57),\n",
    "('Australia', 'Eduard', 'Leipelt', 53)\n"
   ]
  },
  {
   "cell_type": "markdown",
   "metadata": {},
   "source": [
    "## Using Python Variables in your SQL Statements\n",
    "You can use python variables in your SQL statements by adding a \":\" prefix to your python variable names.\n",
    "\n",
    "For example, if I have a python variable `country` with a value of `\"Canada\"`, I can use this variable in a SQL query to find all the rows of students from Canada."
   ]
  },
  {
   "cell_type": "code",
   "execution_count": 4,
   "metadata": {
    "tags": []
   },
   "outputs": [
    {
     "output_type": "stream",
     "name": "stdout",
     "text": "* ibm_db_sa://rqw16120:***@dashdb-txn-sbox-yp-dal09-10.services.dal.bluemix.net:50000/BLUDB\nDone.\n"
    },
    {
     "output_type": "execute_result",
     "data": {
      "text/plain": "[('Canada', 'Cristionna', 'Wadmore', 46),\n ('Canada', 'Wilhelm', 'Deeprose', 54),\n ('Canada', 'Carma', 'Schule', 49)]",
      "text/html": "<table>\n    <tr>\n        <th>country</th>\n        <th>first_name</th>\n        <th>last_name</th>\n        <th>test_score</th>\n    </tr>\n    <tr>\n        <td>Canada</td>\n        <td>Cristionna</td>\n        <td>Wadmore</td>\n        <td>46</td>\n    </tr>\n    <tr>\n        <td>Canada</td>\n        <td>Wilhelm</td>\n        <td>Deeprose</td>\n        <td>54</td>\n    </tr>\n    <tr>\n        <td>Canada</td>\n        <td>Carma</td>\n        <td>Schule</td>\n        <td>49</td>\n    </tr>\n</table>"
     },
     "metadata": {},
     "execution_count": 4
    }
   ],
   "source": [
    "country = \"Canada\"\n",
    "%sql select * from INTERNATIONAL_STUDENT_TEST_SCORES where country = :country"
   ]
  },
  {
   "cell_type": "markdown",
   "metadata": {},
   "source": [
    "## Assigning the Results of Queries to Python Variables\n",
    "You can use the normal python assignment syntax to assign the results of your queries to python variables.\n",
    "\n",
    "For example, I have a SQL query to retrieve the distribution of test scores (i.e. how many students got each score). I can assign the result of this query to the variable `test_score_distribution` using the `=` operator."
   ]
  },
  {
   "cell_type": "code",
   "execution_count": 17,
   "metadata": {
    "tags": []
   },
   "outputs": [
    {
     "output_type": "stream",
     "name": "stdout",
     "text": "* ibm_db_sa://rqw16120:***@dashdb-txn-sbox-yp-dal09-10.services.dal.bluemix.net:50000/BLUDB\nDone.\n"
    },
    {
     "output_type": "execute_result",
     "data": {
      "text/plain": "[(38, Decimal('2')),\n (40, Decimal('1')),\n (43, Decimal('2')),\n (44, Decimal('2')),\n (45, Decimal('8')),\n (46, Decimal('7')),\n (47, Decimal('4')),\n (48, Decimal('14')),\n (49, Decimal('8')),\n (50, Decimal('10')),\n (51, Decimal('8')),\n (52, Decimal('8')),\n (53, Decimal('8')),\n (54, Decimal('5')),\n (55, Decimal('4')),\n (56, Decimal('1')),\n (57, Decimal('2')),\n (58, Decimal('4')),\n (60, Decimal('1'))]",
      "text/html": "<table>\n    <tr>\n        <th>Test Score</th>\n        <th>Frequency</th>\n    </tr>\n    <tr>\n        <td>38</td>\n        <td>2</td>\n    </tr>\n    <tr>\n        <td>40</td>\n        <td>1</td>\n    </tr>\n    <tr>\n        <td>43</td>\n        <td>2</td>\n    </tr>\n    <tr>\n        <td>44</td>\n        <td>2</td>\n    </tr>\n    <tr>\n        <td>45</td>\n        <td>8</td>\n    </tr>\n    <tr>\n        <td>46</td>\n        <td>7</td>\n    </tr>\n    <tr>\n        <td>47</td>\n        <td>4</td>\n    </tr>\n    <tr>\n        <td>48</td>\n        <td>14</td>\n    </tr>\n    <tr>\n        <td>49</td>\n        <td>8</td>\n    </tr>\n    <tr>\n        <td>50</td>\n        <td>10</td>\n    </tr>\n    <tr>\n        <td>51</td>\n        <td>8</td>\n    </tr>\n    <tr>\n        <td>52</td>\n        <td>8</td>\n    </tr>\n    <tr>\n        <td>53</td>\n        <td>8</td>\n    </tr>\n    <tr>\n        <td>54</td>\n        <td>5</td>\n    </tr>\n    <tr>\n        <td>55</td>\n        <td>4</td>\n    </tr>\n    <tr>\n        <td>56</td>\n        <td>1</td>\n    </tr>\n    <tr>\n        <td>57</td>\n        <td>2</td>\n    </tr>\n    <tr>\n        <td>58</td>\n        <td>4</td>\n    </tr>\n    <tr>\n        <td>60</td>\n        <td>1</td>\n    </tr>\n</table>"
     },
     "metadata": {},
     "execution_count": 17
    }
   ],
   "source": [
    "test_score_distribution = %sql SELECT test_score as \"Test Score\", count(*) as \"Frequency\" from INTERNATIONAL_STUDENT_TEST_SCORES GROUP BY test_score;\n",
    "test_score_distribution"
   ]
  },
  {
   "cell_type": "code",
   "execution_count": 18,
   "metadata": {},
   "outputs": [
    {
     "output_type": "execute_result",
     "data": {
      "text/plain": "sql.run.ResultSet"
     },
     "metadata": {},
     "execution_count": 18
    }
   ],
   "source": [
    "type(test_score_distribution)"
   ]
  },
  {
   "cell_type": "markdown",
   "metadata": {},
   "source": [
    "## Converting Query Results to DataFrames\n",
    "You can easily convert a SQL query result to a pandas dataframe using the `DataFrame()` method. Dataframe objects are much more versatile than SQL query result objects. For example, we can easily graph our test score distribution after converting to a dataframe."
   ]
  },
  {
   "cell_type": "code",
   "execution_count": 21,
   "metadata": {},
   "outputs": [
    {
     "output_type": "display_data",
     "data": {
      "text/plain": "<Figure size 432x288 with 1 Axes>",
      "image/svg+xml": "<?xml version=\"1.0\" encoding=\"utf-8\" standalone=\"no\"?>\n<!DOCTYPE svg PUBLIC \"-//W3C//DTD SVG 1.1//EN\"\n  \"http://www.w3.org/Graphics/SVG/1.1/DTD/svg11.dtd\">\n<!-- Created with matplotlib (https://matplotlib.org/) -->\n<svg height=\"262.19625pt\" version=\"1.1\" viewBox=\"0 0 382.603125 262.19625\" width=\"382.603125pt\" xmlns=\"http://www.w3.org/2000/svg\" xmlns:xlink=\"http://www.w3.org/1999/xlink\">\n <metadata>\n  <rdf:RDF xmlns:cc=\"http://creativecommons.org/ns#\" xmlns:dc=\"http://purl.org/dc/elements/1.1/\" xmlns:rdf=\"http://www.w3.org/1999/02/22-rdf-syntax-ns#\">\n   <cc:Work>\n    <dc:type rdf:resource=\"http://purl.org/dc/dcmitype/StillImage\"/>\n    <dc:date>2020-07-24T22:18:56.914508</dc:date>\n    <dc:format>image/svg+xml</dc:format>\n    <dc:creator>\n     <cc:Agent>\n      <dc:title>Matplotlib v3.3.0, https://matplotlib.org/</dc:title>\n     </cc:Agent>\n    </dc:creator>\n   </cc:Work>\n  </rdf:RDF>\n </metadata>\n <defs>\n  <style type=\"text/css\">*{stroke-linecap:butt;stroke-linejoin:round;}</style>\n </defs>\n <g id=\"figure_1\">\n  <g id=\"patch_1\">\n   <path d=\"M 0 262.19625 \nL 382.603125 262.19625 \nL 382.603125 0 \nL 0 0 \nz\n\" style=\"fill:none;\"/>\n  </g>\n  <g id=\"axes_1\">\n   <g id=\"patch_2\">\n    <path d=\"M 40.603125 224.64 \nL 375.403125 224.64 \nL 375.403125 7.2 \nL 40.603125 7.2 \nz\n\" style=\"fill:#ffffff;\"/>\n   </g>\n   <g id=\"patch_3\">\n    <path clip-path=\"url(#p63e637a104)\" d=\"M 42.36523 224.64 \nL 56.462072 224.64 \nL 56.462072 195.056327 \nL 42.36523 195.056327 \nz\n\" style=\"fill:#ea96a3;\"/>\n   </g>\n   <g id=\"patch_4\">\n    <path clip-path=\"url(#p63e637a104)\" d=\"M 59.986283 224.64 \nL 74.083125 224.64 \nL 74.083125 209.848163 \nL 59.986283 209.848163 \nz\n\" style=\"fill:#e79680;\"/>\n   </g>\n   <g id=\"patch_5\">\n    <path clip-path=\"url(#p63e637a104)\" d=\"M 77.607336 224.64 \nL 91.704178 224.64 \nL 91.704178 195.056327 \nL 77.607336 195.056327 \nz\n\" style=\"fill:#d4954d;\"/>\n   </g>\n   <g id=\"patch_6\">\n    <path clip-path=\"url(#p63e637a104)\" d=\"M 95.228388 224.64 \nL 109.32523 224.64 \nL 109.32523 195.056327 \nL 95.228388 195.056327 \nz\n\" style=\"fill:#bc9b4a;\"/>\n   </g>\n   <g id=\"patch_7\">\n    <path clip-path=\"url(#p63e637a104)\" d=\"M 112.849441 224.64 \nL 126.946283 224.64 \nL 126.946283 106.305306 \nL 112.849441 106.305306 \nz\n\" style=\"fill:#a79e46;\"/>\n   </g>\n   <g id=\"patch_8\">\n    <path clip-path=\"url(#p63e637a104)\" d=\"M 130.470493 224.64 \nL 144.567336 224.64 \nL 144.567336 121.097143 \nL 130.470493 121.097143 \nz\n\" style=\"fill:#92a446;\"/>\n   </g>\n   <g id=\"patch_9\">\n    <path clip-path=\"url(#p63e637a104)\" d=\"M 148.091546 224.64 \nL 162.188388 224.64 \nL 162.188388 165.472653 \nL 148.091546 165.472653 \nz\n\" style=\"fill:#73ab47;\"/>\n   </g>\n   <g id=\"patch_10\">\n    <path clip-path=\"url(#p63e637a104)\" d=\"M 165.712599 224.64 \nL 179.809441 224.64 \nL 179.809441 17.554286 \nL 165.712599 17.554286 \nz\n\" style=\"fill:#48af6c;\"/>\n   </g>\n   <g id=\"patch_11\">\n    <path clip-path=\"url(#p63e637a104)\" d=\"M 183.333651 224.64 \nL 197.430493 224.64 \nL 197.430493 106.305306 \nL 183.333651 106.305306 \nz\n\" style=\"fill:#4aad8c;\"/>\n   </g>\n   <g id=\"patch_12\">\n    <path clip-path=\"url(#p63e637a104)\" d=\"M 200.954704 224.64 \nL 215.051546 224.64 \nL 215.051546 76.721633 \nL 200.954704 76.721633 \nz\n\" style=\"fill:#4bac9d;\"/>\n   </g>\n   <g id=\"patch_13\">\n    <path clip-path=\"url(#p63e637a104)\" d=\"M 218.575757 224.64 \nL 232.672599 224.64 \nL 232.672599 106.305306 \nL 218.575757 106.305306 \nz\n\" style=\"fill:#4baaab;\"/>\n   </g>\n   <g id=\"patch_14\">\n    <path clip-path=\"url(#p63e637a104)\" d=\"M 236.196809 224.64 \nL 250.293651 224.64 \nL 250.293651 106.305306 \nL 236.196809 106.305306 \nz\n\" style=\"fill:#4fabbb;\"/>\n   </g>\n   <g id=\"patch_15\">\n    <path clip-path=\"url(#p63e637a104)\" d=\"M 253.817862 224.64 \nL 267.914704 224.64 \nL 267.914704 106.305306 \nL 253.817862 106.305306 \nz\n\" style=\"fill:#54acd1;\"/>\n   </g>\n   <g id=\"patch_16\">\n    <path clip-path=\"url(#p63e637a104)\" d=\"M 271.438914 224.64 \nL 285.535757 224.64 \nL 285.535757 150.680816 \nL 271.438914 150.680816 \nz\n\" style=\"fill:#84aee6;\"/>\n   </g>\n   <g id=\"patch_17\">\n    <path clip-path=\"url(#p63e637a104)\" d=\"M 289.059967 224.64 \nL 303.156809 224.64 \nL 303.156809 165.472653 \nL 289.059967 165.472653 \nz\n\" style=\"fill:#afaaeb;\"/>\n   </g>\n   <g id=\"patch_18\">\n    <path clip-path=\"url(#p63e637a104)\" d=\"M 306.68102 224.64 \nL 320.777862 224.64 \nL 320.777862 209.848163 \nL 306.68102 209.848163 \nz\n\" style=\"fill:#c99ee9;\"/>\n   </g>\n   <g id=\"patch_19\">\n    <path clip-path=\"url(#p63e637a104)\" d=\"M 324.302072 224.64 \nL 338.398914 224.64 \nL 338.398914 195.056327 \nL 324.302072 195.056327 \nz\n\" style=\"fill:#e38be7;\"/>\n   </g>\n   <g id=\"patch_20\">\n    <path clip-path=\"url(#p63e637a104)\" d=\"M 341.923125 224.64 \nL 356.019967 224.64 \nL 356.019967 165.472653 \nL 341.923125 165.472653 \nz\n\" style=\"fill:#e88ecf;\"/>\n   </g>\n   <g id=\"patch_21\">\n    <path clip-path=\"url(#p63e637a104)\" d=\"M 359.544178 224.64 \nL 373.64102 224.64 \nL 373.64102 209.848163 \nL 359.544178 209.848163 \nz\n\" style=\"fill:#e992ba;\"/>\n   </g>\n   <g id=\"matplotlib.axis_1\">\n    <g id=\"xtick_1\">\n     <g id=\"line2d_1\">\n      <defs>\n       <path d=\"M 0 0 \nL 0 3.5 \n\" id=\"mf31b602fc2\" style=\"stroke:#000000;stroke-width:0.8;\"/>\n      </defs>\n      <g>\n       <use style=\"stroke:#000000;stroke-width:0.8;\" x=\"49.413651\" xlink:href=\"#mf31b602fc2\" y=\"224.64\"/>\n      </g>\n     </g>\n     <g id=\"text_1\">\n      <!-- 38 -->\n      <g transform=\"translate(43.051151 239.238437)scale(0.1 -0.1)\">\n       <defs>\n        <path d=\"M 40.578125 39.3125 \nQ 47.65625 37.796875 51.625 33 \nQ 55.609375 28.21875 55.609375 21.1875 \nQ 55.609375 10.40625 48.1875 4.484375 \nQ 40.765625 -1.421875 27.09375 -1.421875 \nQ 22.515625 -1.421875 17.65625 -0.515625 \nQ 12.796875 0.390625 7.625 2.203125 \nL 7.625 11.71875 \nQ 11.71875 9.328125 16.59375 8.109375 \nQ 21.484375 6.890625 26.8125 6.890625 \nQ 36.078125 6.890625 40.9375 10.546875 \nQ 45.796875 14.203125 45.796875 21.1875 \nQ 45.796875 27.640625 41.28125 31.265625 \nQ 36.765625 34.90625 28.71875 34.90625 \nL 20.21875 34.90625 \nL 20.21875 43.015625 \nL 29.109375 43.015625 \nQ 36.375 43.015625 40.234375 45.921875 \nQ 44.09375 48.828125 44.09375 54.296875 \nQ 44.09375 59.90625 40.109375 62.90625 \nQ 36.140625 65.921875 28.71875 65.921875 \nQ 24.65625 65.921875 20.015625 65.03125 \nQ 15.375 64.15625 9.8125 62.3125 \nL 9.8125 71.09375 \nQ 15.4375 72.65625 20.34375 73.4375 \nQ 25.25 74.21875 29.59375 74.21875 \nQ 40.828125 74.21875 47.359375 69.109375 \nQ 53.90625 64.015625 53.90625 55.328125 \nQ 53.90625 49.265625 50.4375 45.09375 \nQ 46.96875 40.921875 40.578125 39.3125 \nz\n\" id=\"DejaVuSans-51\"/>\n        <path d=\"M 31.78125 34.625 \nQ 24.75 34.625 20.71875 30.859375 \nQ 16.703125 27.09375 16.703125 20.515625 \nQ 16.703125 13.921875 20.71875 10.15625 \nQ 24.75 6.390625 31.78125 6.390625 \nQ 38.8125 6.390625 42.859375 10.171875 \nQ 46.921875 13.96875 46.921875 20.515625 \nQ 46.921875 27.09375 42.890625 30.859375 \nQ 38.875 34.625 31.78125 34.625 \nz\nM 21.921875 38.8125 \nQ 15.578125 40.375 12.03125 44.71875 \nQ 8.5 49.078125 8.5 55.328125 \nQ 8.5 64.0625 14.71875 69.140625 \nQ 20.953125 74.21875 31.78125 74.21875 \nQ 42.671875 74.21875 48.875 69.140625 \nQ 55.078125 64.0625 55.078125 55.328125 \nQ 55.078125 49.078125 51.53125 44.71875 \nQ 48 40.375 41.703125 38.8125 \nQ 48.828125 37.15625 52.796875 32.3125 \nQ 56.78125 27.484375 56.78125 20.515625 \nQ 56.78125 9.90625 50.3125 4.234375 \nQ 43.84375 -1.421875 31.78125 -1.421875 \nQ 19.734375 -1.421875 13.25 4.234375 \nQ 6.78125 9.90625 6.78125 20.515625 \nQ 6.78125 27.484375 10.78125 32.3125 \nQ 14.796875 37.15625 21.921875 38.8125 \nz\nM 18.3125 54.390625 \nQ 18.3125 48.734375 21.84375 45.5625 \nQ 25.390625 42.390625 31.78125 42.390625 \nQ 38.140625 42.390625 41.71875 45.5625 \nQ 45.3125 48.734375 45.3125 54.390625 \nQ 45.3125 60.0625 41.71875 63.234375 \nQ 38.140625 66.40625 31.78125 66.40625 \nQ 25.390625 66.40625 21.84375 63.234375 \nQ 18.3125 60.0625 18.3125 54.390625 \nz\n\" id=\"DejaVuSans-56\"/>\n       </defs>\n       <use xlink:href=\"#DejaVuSans-51\"/>\n       <use x=\"63.623047\" xlink:href=\"#DejaVuSans-56\"/>\n      </g>\n     </g>\n    </g>\n    <g id=\"xtick_2\">\n     <g id=\"line2d_2\">\n      <g>\n       <use style=\"stroke:#000000;stroke-width:0.8;\" x=\"67.034704\" xlink:href=\"#mf31b602fc2\" y=\"224.64\"/>\n      </g>\n     </g>\n     <g id=\"text_2\">\n      <!-- 40 -->\n      <g transform=\"translate(60.672204 239.238437)scale(0.1 -0.1)\">\n       <defs>\n        <path d=\"M 37.796875 64.3125 \nL 12.890625 25.390625 \nL 37.796875 25.390625 \nz\nM 35.203125 72.90625 \nL 47.609375 72.90625 \nL 47.609375 25.390625 \nL 58.015625 25.390625 \nL 58.015625 17.1875 \nL 47.609375 17.1875 \nL 47.609375 0 \nL 37.796875 0 \nL 37.796875 17.1875 \nL 4.890625 17.1875 \nL 4.890625 26.703125 \nz\n\" id=\"DejaVuSans-52\"/>\n        <path d=\"M 31.78125 66.40625 \nQ 24.171875 66.40625 20.328125 58.90625 \nQ 16.5 51.421875 16.5 36.375 \nQ 16.5 21.390625 20.328125 13.890625 \nQ 24.171875 6.390625 31.78125 6.390625 \nQ 39.453125 6.390625 43.28125 13.890625 \nQ 47.125 21.390625 47.125 36.375 \nQ 47.125 51.421875 43.28125 58.90625 \nQ 39.453125 66.40625 31.78125 66.40625 \nz\nM 31.78125 74.21875 \nQ 44.046875 74.21875 50.515625 64.515625 \nQ 56.984375 54.828125 56.984375 36.375 \nQ 56.984375 17.96875 50.515625 8.265625 \nQ 44.046875 -1.421875 31.78125 -1.421875 \nQ 19.53125 -1.421875 13.0625 8.265625 \nQ 6.59375 17.96875 6.59375 36.375 \nQ 6.59375 54.828125 13.0625 64.515625 \nQ 19.53125 74.21875 31.78125 74.21875 \nz\n\" id=\"DejaVuSans-48\"/>\n       </defs>\n       <use xlink:href=\"#DejaVuSans-52\"/>\n       <use x=\"63.623047\" xlink:href=\"#DejaVuSans-48\"/>\n      </g>\n     </g>\n    </g>\n    <g id=\"xtick_3\">\n     <g id=\"line2d_3\">\n      <g>\n       <use style=\"stroke:#000000;stroke-width:0.8;\" x=\"84.655757\" xlink:href=\"#mf31b602fc2\" y=\"224.64\"/>\n      </g>\n     </g>\n     <g id=\"text_3\">\n      <!-- 43 -->\n      <g transform=\"translate(78.293257 239.238437)scale(0.1 -0.1)\">\n       <use xlink:href=\"#DejaVuSans-52\"/>\n       <use x=\"63.623047\" xlink:href=\"#DejaVuSans-51\"/>\n      </g>\n     </g>\n    </g>\n    <g id=\"xtick_4\">\n     <g id=\"line2d_4\">\n      <g>\n       <use style=\"stroke:#000000;stroke-width:0.8;\" x=\"102.276809\" xlink:href=\"#mf31b602fc2\" y=\"224.64\"/>\n      </g>\n     </g>\n     <g id=\"text_4\">\n      <!-- 44 -->\n      <g transform=\"translate(95.914309 239.238437)scale(0.1 -0.1)\">\n       <use xlink:href=\"#DejaVuSans-52\"/>\n       <use x=\"63.623047\" xlink:href=\"#DejaVuSans-52\"/>\n      </g>\n     </g>\n    </g>\n    <g id=\"xtick_5\">\n     <g id=\"line2d_5\">\n      <g>\n       <use style=\"stroke:#000000;stroke-width:0.8;\" x=\"119.897862\" xlink:href=\"#mf31b602fc2\" y=\"224.64\"/>\n      </g>\n     </g>\n     <g id=\"text_5\">\n      <!-- 45 -->\n      <g transform=\"translate(113.535362 239.238437)scale(0.1 -0.1)\">\n       <defs>\n        <path d=\"M 10.796875 72.90625 \nL 49.515625 72.90625 \nL 49.515625 64.59375 \nL 19.828125 64.59375 \nL 19.828125 46.734375 \nQ 21.96875 47.46875 24.109375 47.828125 \nQ 26.265625 48.1875 28.421875 48.1875 \nQ 40.625 48.1875 47.75 41.5 \nQ 54.890625 34.8125 54.890625 23.390625 \nQ 54.890625 11.625 47.5625 5.09375 \nQ 40.234375 -1.421875 26.90625 -1.421875 \nQ 22.3125 -1.421875 17.546875 -0.640625 \nQ 12.796875 0.140625 7.71875 1.703125 \nL 7.71875 11.625 \nQ 12.109375 9.234375 16.796875 8.0625 \nQ 21.484375 6.890625 26.703125 6.890625 \nQ 35.15625 6.890625 40.078125 11.328125 \nQ 45.015625 15.765625 45.015625 23.390625 \nQ 45.015625 31 40.078125 35.4375 \nQ 35.15625 39.890625 26.703125 39.890625 \nQ 22.75 39.890625 18.8125 39.015625 \nQ 14.890625 38.140625 10.796875 36.28125 \nz\n\" id=\"DejaVuSans-53\"/>\n       </defs>\n       <use xlink:href=\"#DejaVuSans-52\"/>\n       <use x=\"63.623047\" xlink:href=\"#DejaVuSans-53\"/>\n      </g>\n     </g>\n    </g>\n    <g id=\"xtick_6\">\n     <g id=\"line2d_6\">\n      <g>\n       <use style=\"stroke:#000000;stroke-width:0.8;\" x=\"137.518914\" xlink:href=\"#mf31b602fc2\" y=\"224.64\"/>\n      </g>\n     </g>\n     <g id=\"text_6\">\n      <!-- 46 -->\n      <g transform=\"translate(131.156414 239.238437)scale(0.1 -0.1)\">\n       <defs>\n        <path d=\"M 33.015625 40.375 \nQ 26.375 40.375 22.484375 35.828125 \nQ 18.609375 31.296875 18.609375 23.390625 \nQ 18.609375 15.53125 22.484375 10.953125 \nQ 26.375 6.390625 33.015625 6.390625 \nQ 39.65625 6.390625 43.53125 10.953125 \nQ 47.40625 15.53125 47.40625 23.390625 \nQ 47.40625 31.296875 43.53125 35.828125 \nQ 39.65625 40.375 33.015625 40.375 \nz\nM 52.59375 71.296875 \nL 52.59375 62.3125 \nQ 48.875 64.0625 45.09375 64.984375 \nQ 41.3125 65.921875 37.59375 65.921875 \nQ 27.828125 65.921875 22.671875 59.328125 \nQ 17.53125 52.734375 16.796875 39.40625 \nQ 19.671875 43.65625 24.015625 45.921875 \nQ 28.375 48.1875 33.59375 48.1875 \nQ 44.578125 48.1875 50.953125 41.515625 \nQ 57.328125 34.859375 57.328125 23.390625 \nQ 57.328125 12.15625 50.6875 5.359375 \nQ 44.046875 -1.421875 33.015625 -1.421875 \nQ 20.359375 -1.421875 13.671875 8.265625 \nQ 6.984375 17.96875 6.984375 36.375 \nQ 6.984375 53.65625 15.1875 63.9375 \nQ 23.390625 74.21875 37.203125 74.21875 \nQ 40.921875 74.21875 44.703125 73.484375 \nQ 48.484375 72.75 52.59375 71.296875 \nz\n\" id=\"DejaVuSans-54\"/>\n       </defs>\n       <use xlink:href=\"#DejaVuSans-52\"/>\n       <use x=\"63.623047\" xlink:href=\"#DejaVuSans-54\"/>\n      </g>\n     </g>\n    </g>\n    <g id=\"xtick_7\">\n     <g id=\"line2d_7\">\n      <g>\n       <use style=\"stroke:#000000;stroke-width:0.8;\" x=\"155.139967\" xlink:href=\"#mf31b602fc2\" y=\"224.64\"/>\n      </g>\n     </g>\n     <g id=\"text_7\">\n      <!-- 47 -->\n      <g transform=\"translate(148.777467 239.238437)scale(0.1 -0.1)\">\n       <defs>\n        <path d=\"M 8.203125 72.90625 \nL 55.078125 72.90625 \nL 55.078125 68.703125 \nL 28.609375 0 \nL 18.3125 0 \nL 43.21875 64.59375 \nL 8.203125 64.59375 \nz\n\" id=\"DejaVuSans-55\"/>\n       </defs>\n       <use xlink:href=\"#DejaVuSans-52\"/>\n       <use x=\"63.623047\" xlink:href=\"#DejaVuSans-55\"/>\n      </g>\n     </g>\n    </g>\n    <g id=\"xtick_8\">\n     <g id=\"line2d_8\">\n      <g>\n       <use style=\"stroke:#000000;stroke-width:0.8;\" x=\"172.76102\" xlink:href=\"#mf31b602fc2\" y=\"224.64\"/>\n      </g>\n     </g>\n     <g id=\"text_8\">\n      <!-- 48 -->\n      <g transform=\"translate(166.39852 239.238437)scale(0.1 -0.1)\">\n       <use xlink:href=\"#DejaVuSans-52\"/>\n       <use x=\"63.623047\" xlink:href=\"#DejaVuSans-56\"/>\n      </g>\n     </g>\n    </g>\n    <g id=\"xtick_9\">\n     <g id=\"line2d_9\">\n      <g>\n       <use style=\"stroke:#000000;stroke-width:0.8;\" x=\"190.382072\" xlink:href=\"#mf31b602fc2\" y=\"224.64\"/>\n      </g>\n     </g>\n     <g id=\"text_9\">\n      <!-- 49 -->\n      <g transform=\"translate(184.019572 239.238437)scale(0.1 -0.1)\">\n       <defs>\n        <path d=\"M 10.984375 1.515625 \nL 10.984375 10.5 \nQ 14.703125 8.734375 18.5 7.8125 \nQ 22.3125 6.890625 25.984375 6.890625 \nQ 35.75 6.890625 40.890625 13.453125 \nQ 46.046875 20.015625 46.78125 33.40625 \nQ 43.953125 29.203125 39.59375 26.953125 \nQ 35.25 24.703125 29.984375 24.703125 \nQ 19.046875 24.703125 12.671875 31.3125 \nQ 6.296875 37.9375 6.296875 49.421875 \nQ 6.296875 60.640625 12.9375 67.421875 \nQ 19.578125 74.21875 30.609375 74.21875 \nQ 43.265625 74.21875 49.921875 64.515625 \nQ 56.59375 54.828125 56.59375 36.375 \nQ 56.59375 19.140625 48.40625 8.859375 \nQ 40.234375 -1.421875 26.421875 -1.421875 \nQ 22.703125 -1.421875 18.890625 -0.6875 \nQ 15.09375 0.046875 10.984375 1.515625 \nz\nM 30.609375 32.421875 \nQ 37.25 32.421875 41.125 36.953125 \nQ 45.015625 41.5 45.015625 49.421875 \nQ 45.015625 57.28125 41.125 61.84375 \nQ 37.25 66.40625 30.609375 66.40625 \nQ 23.96875 66.40625 20.09375 61.84375 \nQ 16.21875 57.28125 16.21875 49.421875 \nQ 16.21875 41.5 20.09375 36.953125 \nQ 23.96875 32.421875 30.609375 32.421875 \nz\n\" id=\"DejaVuSans-57\"/>\n       </defs>\n       <use xlink:href=\"#DejaVuSans-52\"/>\n       <use x=\"63.623047\" xlink:href=\"#DejaVuSans-57\"/>\n      </g>\n     </g>\n    </g>\n    <g id=\"xtick_10\">\n     <g id=\"line2d_10\">\n      <g>\n       <use style=\"stroke:#000000;stroke-width:0.8;\" x=\"208.003125\" xlink:href=\"#mf31b602fc2\" y=\"224.64\"/>\n      </g>\n     </g>\n     <g id=\"text_10\">\n      <!-- 50 -->\n      <g transform=\"translate(201.640625 239.238437)scale(0.1 -0.1)\">\n       <use xlink:href=\"#DejaVuSans-53\"/>\n       <use x=\"63.623047\" xlink:href=\"#DejaVuSans-48\"/>\n      </g>\n     </g>\n    </g>\n    <g id=\"xtick_11\">\n     <g id=\"line2d_11\">\n      <g>\n       <use style=\"stroke:#000000;stroke-width:0.8;\" x=\"225.624178\" xlink:href=\"#mf31b602fc2\" y=\"224.64\"/>\n      </g>\n     </g>\n     <g id=\"text_11\">\n      <!-- 51 -->\n      <g transform=\"translate(219.261678 239.238437)scale(0.1 -0.1)\">\n       <defs>\n        <path d=\"M 12.40625 8.296875 \nL 28.515625 8.296875 \nL 28.515625 63.921875 \nL 10.984375 60.40625 \nL 10.984375 69.390625 \nL 28.421875 72.90625 \nL 38.28125 72.90625 \nL 38.28125 8.296875 \nL 54.390625 8.296875 \nL 54.390625 0 \nL 12.40625 0 \nz\n\" id=\"DejaVuSans-49\"/>\n       </defs>\n       <use xlink:href=\"#DejaVuSans-53\"/>\n       <use x=\"63.623047\" xlink:href=\"#DejaVuSans-49\"/>\n      </g>\n     </g>\n    </g>\n    <g id=\"xtick_12\">\n     <g id=\"line2d_12\">\n      <g>\n       <use style=\"stroke:#000000;stroke-width:0.8;\" x=\"243.24523\" xlink:href=\"#mf31b602fc2\" y=\"224.64\"/>\n      </g>\n     </g>\n     <g id=\"text_12\">\n      <!-- 52 -->\n      <g transform=\"translate(236.88273 239.238437)scale(0.1 -0.1)\">\n       <defs>\n        <path d=\"M 19.1875 8.296875 \nL 53.609375 8.296875 \nL 53.609375 0 \nL 7.328125 0 \nL 7.328125 8.296875 \nQ 12.9375 14.109375 22.625 23.890625 \nQ 32.328125 33.6875 34.8125 36.53125 \nQ 39.546875 41.84375 41.421875 45.53125 \nQ 43.3125 49.21875 43.3125 52.78125 \nQ 43.3125 58.59375 39.234375 62.25 \nQ 35.15625 65.921875 28.609375 65.921875 \nQ 23.96875 65.921875 18.8125 64.3125 \nQ 13.671875 62.703125 7.8125 59.421875 \nL 7.8125 69.390625 \nQ 13.765625 71.78125 18.9375 73 \nQ 24.125 74.21875 28.421875 74.21875 \nQ 39.75 74.21875 46.484375 68.546875 \nQ 53.21875 62.890625 53.21875 53.421875 \nQ 53.21875 48.921875 51.53125 44.890625 \nQ 49.859375 40.875 45.40625 35.40625 \nQ 44.1875 33.984375 37.640625 27.21875 \nQ 31.109375 20.453125 19.1875 8.296875 \nz\n\" id=\"DejaVuSans-50\"/>\n       </defs>\n       <use xlink:href=\"#DejaVuSans-53\"/>\n       <use x=\"63.623047\" xlink:href=\"#DejaVuSans-50\"/>\n      </g>\n     </g>\n    </g>\n    <g id=\"xtick_13\">\n     <g id=\"line2d_13\">\n      <g>\n       <use style=\"stroke:#000000;stroke-width:0.8;\" x=\"260.866283\" xlink:href=\"#mf31b602fc2\" y=\"224.64\"/>\n      </g>\n     </g>\n     <g id=\"text_13\">\n      <!-- 53 -->\n      <g transform=\"translate(254.503783 239.238437)scale(0.1 -0.1)\">\n       <use xlink:href=\"#DejaVuSans-53\"/>\n       <use x=\"63.623047\" xlink:href=\"#DejaVuSans-51\"/>\n      </g>\n     </g>\n    </g>\n    <g id=\"xtick_14\">\n     <g id=\"line2d_14\">\n      <g>\n       <use style=\"stroke:#000000;stroke-width:0.8;\" x=\"278.487336\" xlink:href=\"#mf31b602fc2\" y=\"224.64\"/>\n      </g>\n     </g>\n     <g id=\"text_14\">\n      <!-- 54 -->\n      <g transform=\"translate(272.124836 239.238437)scale(0.1 -0.1)\">\n       <use xlink:href=\"#DejaVuSans-53\"/>\n       <use x=\"63.623047\" xlink:href=\"#DejaVuSans-52\"/>\n      </g>\n     </g>\n    </g>\n    <g id=\"xtick_15\">\n     <g id=\"line2d_15\">\n      <g>\n       <use style=\"stroke:#000000;stroke-width:0.8;\" x=\"296.108388\" xlink:href=\"#mf31b602fc2\" y=\"224.64\"/>\n      </g>\n     </g>\n     <g id=\"text_15\">\n      <!-- 55 -->\n      <g transform=\"translate(289.745888 239.238437)scale(0.1 -0.1)\">\n       <use xlink:href=\"#DejaVuSans-53\"/>\n       <use x=\"63.623047\" xlink:href=\"#DejaVuSans-53\"/>\n      </g>\n     </g>\n    </g>\n    <g id=\"xtick_16\">\n     <g id=\"line2d_16\">\n      <g>\n       <use style=\"stroke:#000000;stroke-width:0.8;\" x=\"313.729441\" xlink:href=\"#mf31b602fc2\" y=\"224.64\"/>\n      </g>\n     </g>\n     <g id=\"text_16\">\n      <!-- 56 -->\n      <g transform=\"translate(307.366941 239.238437)scale(0.1 -0.1)\">\n       <use xlink:href=\"#DejaVuSans-53\"/>\n       <use x=\"63.623047\" xlink:href=\"#DejaVuSans-54\"/>\n      </g>\n     </g>\n    </g>\n    <g id=\"xtick_17\">\n     <g id=\"line2d_17\">\n      <g>\n       <use style=\"stroke:#000000;stroke-width:0.8;\" x=\"331.350493\" xlink:href=\"#mf31b602fc2\" y=\"224.64\"/>\n      </g>\n     </g>\n     <g id=\"text_17\">\n      <!-- 57 -->\n      <g transform=\"translate(324.987993 239.238437)scale(0.1 -0.1)\">\n       <use xlink:href=\"#DejaVuSans-53\"/>\n       <use x=\"63.623047\" xlink:href=\"#DejaVuSans-55\"/>\n      </g>\n     </g>\n    </g>\n    <g id=\"xtick_18\">\n     <g id=\"line2d_18\">\n      <g>\n       <use style=\"stroke:#000000;stroke-width:0.8;\" x=\"348.971546\" xlink:href=\"#mf31b602fc2\" y=\"224.64\"/>\n      </g>\n     </g>\n     <g id=\"text_18\">\n      <!-- 58 -->\n      <g transform=\"translate(342.609046 239.238437)scale(0.1 -0.1)\">\n       <use xlink:href=\"#DejaVuSans-53\"/>\n       <use x=\"63.623047\" xlink:href=\"#DejaVuSans-56\"/>\n      </g>\n     </g>\n    </g>\n    <g id=\"xtick_19\">\n     <g id=\"line2d_19\">\n      <g>\n       <use style=\"stroke:#000000;stroke-width:0.8;\" x=\"366.592599\" xlink:href=\"#mf31b602fc2\" y=\"224.64\"/>\n      </g>\n     </g>\n     <g id=\"text_19\">\n      <!-- 60 -->\n      <g transform=\"translate(360.230099 239.238437)scale(0.1 -0.1)\">\n       <use xlink:href=\"#DejaVuSans-54\"/>\n       <use x=\"63.623047\" xlink:href=\"#DejaVuSans-48\"/>\n      </g>\n     </g>\n    </g>\n    <g id=\"text_20\">\n     <!-- Test Score -->\n     <g transform=\"translate(182.566406 252.916562)scale(0.1 -0.1)\">\n      <defs>\n       <path d=\"M -0.296875 72.90625 \nL 61.375 72.90625 \nL 61.375 64.59375 \nL 35.5 64.59375 \nL 35.5 0 \nL 25.59375 0 \nL 25.59375 64.59375 \nL -0.296875 64.59375 \nz\n\" id=\"DejaVuSans-84\"/>\n       <path d=\"M 56.203125 29.59375 \nL 56.203125 25.203125 \nL 14.890625 25.203125 \nQ 15.484375 15.921875 20.484375 11.0625 \nQ 25.484375 6.203125 34.421875 6.203125 \nQ 39.59375 6.203125 44.453125 7.46875 \nQ 49.3125 8.734375 54.109375 11.28125 \nL 54.109375 2.78125 \nQ 49.265625 0.734375 44.1875 -0.34375 \nQ 39.109375 -1.421875 33.890625 -1.421875 \nQ 20.796875 -1.421875 13.15625 6.1875 \nQ 5.515625 13.8125 5.515625 26.8125 \nQ 5.515625 40.234375 12.765625 48.109375 \nQ 20.015625 56 32.328125 56 \nQ 43.359375 56 49.78125 48.890625 \nQ 56.203125 41.796875 56.203125 29.59375 \nz\nM 47.21875 32.234375 \nQ 47.125 39.59375 43.09375 43.984375 \nQ 39.0625 48.390625 32.421875 48.390625 \nQ 24.90625 48.390625 20.390625 44.140625 \nQ 15.875 39.890625 15.1875 32.171875 \nz\n\" id=\"DejaVuSans-101\"/>\n       <path d=\"M 44.28125 53.078125 \nL 44.28125 44.578125 \nQ 40.484375 46.53125 36.375 47.5 \nQ 32.28125 48.484375 27.875 48.484375 \nQ 21.1875 48.484375 17.84375 46.4375 \nQ 14.5 44.390625 14.5 40.28125 \nQ 14.5 37.15625 16.890625 35.375 \nQ 19.28125 33.59375 26.515625 31.984375 \nL 29.59375 31.296875 \nQ 39.15625 29.25 43.1875 25.515625 \nQ 47.21875 21.78125 47.21875 15.09375 \nQ 47.21875 7.46875 41.1875 3.015625 \nQ 35.15625 -1.421875 24.609375 -1.421875 \nQ 20.21875 -1.421875 15.453125 -0.5625 \nQ 10.6875 0.296875 5.421875 2 \nL 5.421875 11.28125 \nQ 10.40625 8.6875 15.234375 7.390625 \nQ 20.0625 6.109375 24.8125 6.109375 \nQ 31.15625 6.109375 34.5625 8.28125 \nQ 37.984375 10.453125 37.984375 14.40625 \nQ 37.984375 18.0625 35.515625 20.015625 \nQ 33.0625 21.96875 24.703125 23.78125 \nL 21.578125 24.515625 \nQ 13.234375 26.265625 9.515625 29.90625 \nQ 5.8125 33.546875 5.8125 39.890625 \nQ 5.8125 47.609375 11.28125 51.796875 \nQ 16.75 56 26.8125 56 \nQ 31.78125 56 36.171875 55.265625 \nQ 40.578125 54.546875 44.28125 53.078125 \nz\n\" id=\"DejaVuSans-115\"/>\n       <path d=\"M 18.3125 70.21875 \nL 18.3125 54.6875 \nL 36.8125 54.6875 \nL 36.8125 47.703125 \nL 18.3125 47.703125 \nL 18.3125 18.015625 \nQ 18.3125 11.328125 20.140625 9.421875 \nQ 21.96875 7.515625 27.59375 7.515625 \nL 36.8125 7.515625 \nL 36.8125 0 \nL 27.59375 0 \nQ 17.1875 0 13.234375 3.875 \nQ 9.28125 7.765625 9.28125 18.015625 \nL 9.28125 47.703125 \nL 2.6875 47.703125 \nL 2.6875 54.6875 \nL 9.28125 54.6875 \nL 9.28125 70.21875 \nz\n\" id=\"DejaVuSans-116\"/>\n       <path id=\"DejaVuSans-32\"/>\n       <path d=\"M 53.515625 70.515625 \nL 53.515625 60.890625 \nQ 47.90625 63.578125 42.921875 64.890625 \nQ 37.9375 66.21875 33.296875 66.21875 \nQ 25.25 66.21875 20.875 63.09375 \nQ 16.5 59.96875 16.5 54.203125 \nQ 16.5 49.359375 19.40625 46.890625 \nQ 22.3125 44.4375 30.421875 42.921875 \nL 36.375 41.703125 \nQ 47.40625 39.59375 52.65625 34.296875 \nQ 57.90625 29 57.90625 20.125 \nQ 57.90625 9.515625 50.796875 4.046875 \nQ 43.703125 -1.421875 29.984375 -1.421875 \nQ 24.8125 -1.421875 18.96875 -0.25 \nQ 13.140625 0.921875 6.890625 3.21875 \nL 6.890625 13.375 \nQ 12.890625 10.015625 18.65625 8.296875 \nQ 24.421875 6.59375 29.984375 6.59375 \nQ 38.421875 6.59375 43.015625 9.90625 \nQ 47.609375 13.234375 47.609375 19.390625 \nQ 47.609375 24.75 44.3125 27.78125 \nQ 41.015625 30.8125 33.5 32.328125 \nL 27.484375 33.5 \nQ 16.453125 35.6875 11.515625 40.375 \nQ 6.59375 45.0625 6.59375 53.421875 \nQ 6.59375 63.09375 13.40625 68.65625 \nQ 20.21875 74.21875 32.171875 74.21875 \nQ 37.3125 74.21875 42.625 73.28125 \nQ 47.953125 72.359375 53.515625 70.515625 \nz\n\" id=\"DejaVuSans-83\"/>\n       <path d=\"M 48.78125 52.59375 \nL 48.78125 44.1875 \nQ 44.96875 46.296875 41.140625 47.34375 \nQ 37.3125 48.390625 33.40625 48.390625 \nQ 24.65625 48.390625 19.8125 42.84375 \nQ 14.984375 37.3125 14.984375 27.296875 \nQ 14.984375 17.28125 19.8125 11.734375 \nQ 24.65625 6.203125 33.40625 6.203125 \nQ 37.3125 6.203125 41.140625 7.25 \nQ 44.96875 8.296875 48.78125 10.40625 \nL 48.78125 2.09375 \nQ 45.015625 0.34375 40.984375 -0.53125 \nQ 36.96875 -1.421875 32.421875 -1.421875 \nQ 20.0625 -1.421875 12.78125 6.34375 \nQ 5.515625 14.109375 5.515625 27.296875 \nQ 5.515625 40.671875 12.859375 48.328125 \nQ 20.21875 56 33.015625 56 \nQ 37.15625 56 41.109375 55.140625 \nQ 45.0625 54.296875 48.78125 52.59375 \nz\n\" id=\"DejaVuSans-99\"/>\n       <path d=\"M 30.609375 48.390625 \nQ 23.390625 48.390625 19.1875 42.75 \nQ 14.984375 37.109375 14.984375 27.296875 \nQ 14.984375 17.484375 19.15625 11.84375 \nQ 23.34375 6.203125 30.609375 6.203125 \nQ 37.796875 6.203125 41.984375 11.859375 \nQ 46.1875 17.53125 46.1875 27.296875 \nQ 46.1875 37.015625 41.984375 42.703125 \nQ 37.796875 48.390625 30.609375 48.390625 \nz\nM 30.609375 56 \nQ 42.328125 56 49.015625 48.375 \nQ 55.71875 40.765625 55.71875 27.296875 \nQ 55.71875 13.875 49.015625 6.21875 \nQ 42.328125 -1.421875 30.609375 -1.421875 \nQ 18.84375 -1.421875 12.171875 6.21875 \nQ 5.515625 13.875 5.515625 27.296875 \nQ 5.515625 40.765625 12.171875 48.375 \nQ 18.84375 56 30.609375 56 \nz\n\" id=\"DejaVuSans-111\"/>\n       <path d=\"M 41.109375 46.296875 \nQ 39.59375 47.171875 37.8125 47.578125 \nQ 36.03125 48 33.890625 48 \nQ 26.265625 48 22.1875 43.046875 \nQ 18.109375 38.09375 18.109375 28.8125 \nL 18.109375 0 \nL 9.078125 0 \nL 9.078125 54.6875 \nL 18.109375 54.6875 \nL 18.109375 46.1875 \nQ 20.953125 51.171875 25.484375 53.578125 \nQ 30.03125 56 36.53125 56 \nQ 37.453125 56 38.578125 55.875 \nQ 39.703125 55.765625 41.0625 55.515625 \nz\n\" id=\"DejaVuSans-114\"/>\n      </defs>\n      <use xlink:href=\"#DejaVuSans-84\"/>\n      <use x=\"44.083984\" xlink:href=\"#DejaVuSans-101\"/>\n      <use x=\"105.607422\" xlink:href=\"#DejaVuSans-115\"/>\n      <use x=\"157.707031\" xlink:href=\"#DejaVuSans-116\"/>\n      <use x=\"196.916016\" xlink:href=\"#DejaVuSans-32\"/>\n      <use x=\"228.703125\" xlink:href=\"#DejaVuSans-83\"/>\n      <use x=\"292.179688\" xlink:href=\"#DejaVuSans-99\"/>\n      <use x=\"347.160156\" xlink:href=\"#DejaVuSans-111\"/>\n      <use x=\"408.341797\" xlink:href=\"#DejaVuSans-114\"/>\n      <use x=\"447.205078\" xlink:href=\"#DejaVuSans-101\"/>\n     </g>\n    </g>\n   </g>\n   <g id=\"matplotlib.axis_2\">\n    <g id=\"ytick_1\">\n     <g id=\"line2d_20\">\n      <defs>\n       <path d=\"M 0 0 \nL -3.5 0 \n\" id=\"me95e3d135d\" style=\"stroke:#000000;stroke-width:0.8;\"/>\n      </defs>\n      <g>\n       <use style=\"stroke:#000000;stroke-width:0.8;\" x=\"40.603125\" xlink:href=\"#me95e3d135d\" y=\"224.64\"/>\n      </g>\n     </g>\n     <g id=\"text_21\">\n      <!-- 0 -->\n      <g transform=\"translate(27.240625 228.439219)scale(0.1 -0.1)\">\n       <use xlink:href=\"#DejaVuSans-48\"/>\n      </g>\n     </g>\n    </g>\n    <g id=\"ytick_2\">\n     <g id=\"line2d_21\">\n      <g>\n       <use style=\"stroke:#000000;stroke-width:0.8;\" x=\"40.603125\" xlink:href=\"#me95e3d135d\" y=\"195.056327\"/>\n      </g>\n     </g>\n     <g id=\"text_22\">\n      <!-- 2 -->\n      <g transform=\"translate(27.240625 198.855545)scale(0.1 -0.1)\">\n       <use xlink:href=\"#DejaVuSans-50\"/>\n      </g>\n     </g>\n    </g>\n    <g id=\"ytick_3\">\n     <g id=\"line2d_22\">\n      <g>\n       <use style=\"stroke:#000000;stroke-width:0.8;\" x=\"40.603125\" xlink:href=\"#me95e3d135d\" y=\"165.472653\"/>\n      </g>\n     </g>\n     <g id=\"text_23\">\n      <!-- 4 -->\n      <g transform=\"translate(27.240625 169.271872)scale(0.1 -0.1)\">\n       <use xlink:href=\"#DejaVuSans-52\"/>\n      </g>\n     </g>\n    </g>\n    <g id=\"ytick_4\">\n     <g id=\"line2d_23\">\n      <g>\n       <use style=\"stroke:#000000;stroke-width:0.8;\" x=\"40.603125\" xlink:href=\"#me95e3d135d\" y=\"135.88898\"/>\n      </g>\n     </g>\n     <g id=\"text_24\">\n      <!-- 6 -->\n      <g transform=\"translate(27.240625 139.688198)scale(0.1 -0.1)\">\n       <use xlink:href=\"#DejaVuSans-54\"/>\n      </g>\n     </g>\n    </g>\n    <g id=\"ytick_5\">\n     <g id=\"line2d_24\">\n      <g>\n       <use style=\"stroke:#000000;stroke-width:0.8;\" x=\"40.603125\" xlink:href=\"#me95e3d135d\" y=\"106.305306\"/>\n      </g>\n     </g>\n     <g id=\"text_25\">\n      <!-- 8 -->\n      <g transform=\"translate(27.240625 110.104525)scale(0.1 -0.1)\">\n       <use xlink:href=\"#DejaVuSans-56\"/>\n      </g>\n     </g>\n    </g>\n    <g id=\"ytick_6\">\n     <g id=\"line2d_25\">\n      <g>\n       <use style=\"stroke:#000000;stroke-width:0.8;\" x=\"40.603125\" xlink:href=\"#me95e3d135d\" y=\"76.721633\"/>\n      </g>\n     </g>\n     <g id=\"text_26\">\n      <!-- 10 -->\n      <g transform=\"translate(20.878125 80.520851)scale(0.1 -0.1)\">\n       <use xlink:href=\"#DejaVuSans-49\"/>\n       <use x=\"63.623047\" xlink:href=\"#DejaVuSans-48\"/>\n      </g>\n     </g>\n    </g>\n    <g id=\"ytick_7\">\n     <g id=\"line2d_26\">\n      <g>\n       <use style=\"stroke:#000000;stroke-width:0.8;\" x=\"40.603125\" xlink:href=\"#me95e3d135d\" y=\"47.137959\"/>\n      </g>\n     </g>\n     <g id=\"text_27\">\n      <!-- 12 -->\n      <g transform=\"translate(20.878125 50.937178)scale(0.1 -0.1)\">\n       <use xlink:href=\"#DejaVuSans-49\"/>\n       <use x=\"63.623047\" xlink:href=\"#DejaVuSans-50\"/>\n      </g>\n     </g>\n    </g>\n    <g id=\"ytick_8\">\n     <g id=\"line2d_27\">\n      <g>\n       <use style=\"stroke:#000000;stroke-width:0.8;\" x=\"40.603125\" xlink:href=\"#me95e3d135d\" y=\"17.554286\"/>\n      </g>\n     </g>\n     <g id=\"text_28\">\n      <!-- 14 -->\n      <g transform=\"translate(20.878125 21.353504)scale(0.1 -0.1)\">\n       <use xlink:href=\"#DejaVuSans-49\"/>\n       <use x=\"63.623047\" xlink:href=\"#DejaVuSans-52\"/>\n      </g>\n     </g>\n    </g>\n    <g id=\"text_29\">\n     <!-- Frequency -->\n     <g transform=\"translate(14.798438 141.749687)rotate(-90)scale(0.1 -0.1)\">\n      <defs>\n       <path d=\"M 9.8125 72.90625 \nL 51.703125 72.90625 \nL 51.703125 64.59375 \nL 19.671875 64.59375 \nL 19.671875 43.109375 \nL 48.578125 43.109375 \nL 48.578125 34.8125 \nL 19.671875 34.8125 \nL 19.671875 0 \nL 9.8125 0 \nz\n\" id=\"DejaVuSans-70\"/>\n       <path d=\"M 14.796875 27.296875 \nQ 14.796875 17.390625 18.875 11.75 \nQ 22.953125 6.109375 30.078125 6.109375 \nQ 37.203125 6.109375 41.296875 11.75 \nQ 45.40625 17.390625 45.40625 27.296875 \nQ 45.40625 37.203125 41.296875 42.84375 \nQ 37.203125 48.484375 30.078125 48.484375 \nQ 22.953125 48.484375 18.875 42.84375 \nQ 14.796875 37.203125 14.796875 27.296875 \nz\nM 45.40625 8.203125 \nQ 42.578125 3.328125 38.25 0.953125 \nQ 33.9375 -1.421875 27.875 -1.421875 \nQ 17.96875 -1.421875 11.734375 6.484375 \nQ 5.515625 14.40625 5.515625 27.296875 \nQ 5.515625 40.1875 11.734375 48.09375 \nQ 17.96875 56 27.875 56 \nQ 33.9375 56 38.25 53.625 \nQ 42.578125 51.265625 45.40625 46.390625 \nL 45.40625 54.6875 \nL 54.390625 54.6875 \nL 54.390625 -20.796875 \nL 45.40625 -20.796875 \nz\n\" id=\"DejaVuSans-113\"/>\n       <path d=\"M 8.5 21.578125 \nL 8.5 54.6875 \nL 17.484375 54.6875 \nL 17.484375 21.921875 \nQ 17.484375 14.15625 20.5 10.265625 \nQ 23.53125 6.390625 29.59375 6.390625 \nQ 36.859375 6.390625 41.078125 11.03125 \nQ 45.3125 15.671875 45.3125 23.6875 \nL 45.3125 54.6875 \nL 54.296875 54.6875 \nL 54.296875 0 \nL 45.3125 0 \nL 45.3125 8.40625 \nQ 42.046875 3.421875 37.71875 1 \nQ 33.40625 -1.421875 27.6875 -1.421875 \nQ 18.265625 -1.421875 13.375 4.4375 \nQ 8.5 10.296875 8.5 21.578125 \nz\nM 31.109375 56 \nz\n\" id=\"DejaVuSans-117\"/>\n       <path d=\"M 54.890625 33.015625 \nL 54.890625 0 \nL 45.90625 0 \nL 45.90625 32.71875 \nQ 45.90625 40.484375 42.875 44.328125 \nQ 39.84375 48.1875 33.796875 48.1875 \nQ 26.515625 48.1875 22.3125 43.546875 \nQ 18.109375 38.921875 18.109375 30.90625 \nL 18.109375 0 \nL 9.078125 0 \nL 9.078125 54.6875 \nL 18.109375 54.6875 \nL 18.109375 46.1875 \nQ 21.34375 51.125 25.703125 53.5625 \nQ 30.078125 56 35.796875 56 \nQ 45.21875 56 50.046875 50.171875 \nQ 54.890625 44.34375 54.890625 33.015625 \nz\n\" id=\"DejaVuSans-110\"/>\n       <path d=\"M 32.171875 -5.078125 \nQ 28.375 -14.84375 24.75 -17.8125 \nQ 21.140625 -20.796875 15.09375 -20.796875 \nL 7.90625 -20.796875 \nL 7.90625 -13.28125 \nL 13.1875 -13.28125 \nQ 16.890625 -13.28125 18.9375 -11.515625 \nQ 21 -9.765625 23.484375 -3.21875 \nL 25.09375 0.875 \nL 2.984375 54.6875 \nL 12.5 54.6875 \nL 29.59375 11.921875 \nL 46.6875 54.6875 \nL 56.203125 54.6875 \nz\n\" id=\"DejaVuSans-121\"/>\n      </defs>\n      <use xlink:href=\"#DejaVuSans-70\"/>\n      <use x=\"50.269531\" xlink:href=\"#DejaVuSans-114\"/>\n      <use x=\"89.132812\" xlink:href=\"#DejaVuSans-101\"/>\n      <use x=\"150.65625\" xlink:href=\"#DejaVuSans-113\"/>\n      <use x=\"214.132812\" xlink:href=\"#DejaVuSans-117\"/>\n      <use x=\"277.511719\" xlink:href=\"#DejaVuSans-101\"/>\n      <use x=\"339.035156\" xlink:href=\"#DejaVuSans-110\"/>\n      <use x=\"402.414062\" xlink:href=\"#DejaVuSans-99\"/>\n      <use x=\"457.394531\" xlink:href=\"#DejaVuSans-121\"/>\n     </g>\n    </g>\n   </g>\n   <g id=\"line2d_28\">\n    <path clip-path=\"url(#p63e637a104)\" d=\"M 0 0 \n\" style=\"fill:none;stroke:#424242;stroke-linecap:square;stroke-width:2.7;\"/>\n   </g>\n   <g id=\"line2d_29\">\n    <path clip-path=\"url(#p63e637a104)\" d=\"M 0 0 \n\" style=\"fill:none;stroke:#424242;stroke-linecap:square;stroke-width:2.7;\"/>\n   </g>\n   <g id=\"line2d_30\">\n    <path clip-path=\"url(#p63e637a104)\" d=\"M 0 0 \n\" style=\"fill:none;stroke:#424242;stroke-linecap:square;stroke-width:2.7;\"/>\n   </g>\n   <g id=\"line2d_31\">\n    <path clip-path=\"url(#p63e637a104)\" d=\"M 0 0 \n\" style=\"fill:none;stroke:#424242;stroke-linecap:square;stroke-width:2.7;\"/>\n   </g>\n   <g id=\"line2d_32\">\n    <path clip-path=\"url(#p63e637a104)\" d=\"M 0 0 \n\" style=\"fill:none;stroke:#424242;stroke-linecap:square;stroke-width:2.7;\"/>\n   </g>\n   <g id=\"line2d_33\">\n    <path clip-path=\"url(#p63e637a104)\" d=\"M 0 0 \n\" style=\"fill:none;stroke:#424242;stroke-linecap:square;stroke-width:2.7;\"/>\n   </g>\n   <g id=\"line2d_34\">\n    <path clip-path=\"url(#p63e637a104)\" d=\"M 0 0 \n\" style=\"fill:none;stroke:#424242;stroke-linecap:square;stroke-width:2.7;\"/>\n   </g>\n   <g id=\"line2d_35\">\n    <path clip-path=\"url(#p63e637a104)\" d=\"M 0 0 \n\" style=\"fill:none;stroke:#424242;stroke-linecap:square;stroke-width:2.7;\"/>\n   </g>\n   <g id=\"line2d_36\">\n    <path clip-path=\"url(#p63e637a104)\" d=\"M 0 0 \n\" style=\"fill:none;stroke:#424242;stroke-linecap:square;stroke-width:2.7;\"/>\n   </g>\n   <g id=\"line2d_37\">\n    <path clip-path=\"url(#p63e637a104)\" d=\"M 0 0 \n\" style=\"fill:none;stroke:#424242;stroke-linecap:square;stroke-width:2.7;\"/>\n   </g>\n   <g id=\"line2d_38\">\n    <path clip-path=\"url(#p63e637a104)\" d=\"M 0 0 \n\" style=\"fill:none;stroke:#424242;stroke-linecap:square;stroke-width:2.7;\"/>\n   </g>\n   <g id=\"line2d_39\">\n    <path clip-path=\"url(#p63e637a104)\" d=\"M 0 0 \n\" style=\"fill:none;stroke:#424242;stroke-linecap:square;stroke-width:2.7;\"/>\n   </g>\n   <g id=\"line2d_40\">\n    <path clip-path=\"url(#p63e637a104)\" d=\"M 0 0 \n\" style=\"fill:none;stroke:#424242;stroke-linecap:square;stroke-width:2.7;\"/>\n   </g>\n   <g id=\"line2d_41\">\n    <path clip-path=\"url(#p63e637a104)\" d=\"M 0 0 \n\" style=\"fill:none;stroke:#424242;stroke-linecap:square;stroke-width:2.7;\"/>\n   </g>\n   <g id=\"line2d_42\">\n    <path clip-path=\"url(#p63e637a104)\" d=\"M 0 0 \n\" style=\"fill:none;stroke:#424242;stroke-linecap:square;stroke-width:2.7;\"/>\n   </g>\n   <g id=\"line2d_43\">\n    <path clip-path=\"url(#p63e637a104)\" d=\"M 0 0 \n\" style=\"fill:none;stroke:#424242;stroke-linecap:square;stroke-width:2.7;\"/>\n   </g>\n   <g id=\"line2d_44\">\n    <path clip-path=\"url(#p63e637a104)\" d=\"M 0 0 \n\" style=\"fill:none;stroke:#424242;stroke-linecap:square;stroke-width:2.7;\"/>\n   </g>\n   <g id=\"line2d_45\">\n    <path clip-path=\"url(#p63e637a104)\" d=\"M 0 0 \n\" style=\"fill:none;stroke:#424242;stroke-linecap:square;stroke-width:2.7;\"/>\n   </g>\n   <g id=\"line2d_46\">\n    <path clip-path=\"url(#p63e637a104)\" d=\"M 0 0 \n\" style=\"fill:none;stroke:#424242;stroke-linecap:square;stroke-width:2.7;\"/>\n   </g>\n   <g id=\"patch_22\">\n    <path d=\"M 40.603125 224.64 \nL 40.603125 7.2 \n\" style=\"fill:none;stroke:#000000;stroke-linecap:square;stroke-linejoin:miter;stroke-width:0.8;\"/>\n   </g>\n   <g id=\"patch_23\">\n    <path d=\"M 375.403125 224.64 \nL 375.403125 7.2 \n\" style=\"fill:none;stroke:#000000;stroke-linecap:square;stroke-linejoin:miter;stroke-width:0.8;\"/>\n   </g>\n   <g id=\"patch_24\">\n    <path d=\"M 40.603125 224.64 \nL 375.403125 224.64 \n\" style=\"fill:none;stroke:#000000;stroke-linecap:square;stroke-linejoin:miter;stroke-width:0.8;\"/>\n   </g>\n   <g id=\"patch_25\">\n    <path d=\"M 40.603125 7.2 \nL 375.403125 7.2 \n\" style=\"fill:none;stroke:#000000;stroke-linecap:square;stroke-linejoin:miter;stroke-width:0.8;\"/>\n   </g>\n  </g>\n </g>\n <defs>\n  <clipPath id=\"p63e637a104\">\n   <rect height=\"217.44\" width=\"334.8\" x=\"40.603125\" y=\"7.2\"/>\n  </clipPath>\n </defs>\n</svg>\n",
      "image/png": "[encoded data removed]"
     },
     "metadata": {
      "needs_background": "light"
     }
    }
   ],
   "source": [
    "dataframe = test_score_distribution.DataFrame()\n",
    "\n",
    "%matplotlib inline\n",
    "# uncomment the following line if you get an module error saying seaborn not found\n",
    "# !pip3 install seaborn\n",
    "import seaborn\n",
    "\n",
    "plot = seaborn.barplot(x='Test Score',y='Frequency', data=dataframe)"
   ]
  },
  {
   "cell_type": "markdown",
   "metadata": {},
   "source": [
    "Now you know how to work with Db2 from within JupyterLab notebooks using SQL \"magic\"!"
   ]
  },
  {
   "cell_type": "code",
   "execution_count": 22,
   "metadata": {
    "tags": []
   },
   "outputs": [
    {
     "output_type": "stream",
     "name": "stdout",
     "text": "* ibm_db_sa://rqw16120:***@dashdb-txn-sbox-yp-dal09-10.services.dal.bluemix.net:50000/BLUDB\nDone.\n"
    },
    {
     "output_type": "execute_result",
     "data": {
      "text/plain": "[('United States', 'Marshall', 'Bernadot', 54),\n ('Ghana', 'Celinda', 'Malkin', 51),\n ('Ukraine', 'Guillermo', 'Furze', 53),\n ('Greece', 'Aharon', 'Tunnow', 48),\n ('Russia', 'Bail', 'Goodwin', 46),\n ('Poland', 'Cole', 'Winteringham', 49),\n ('Sweden', 'Emlyn', 'Erricker', 55),\n ('Russia', 'Cathee', 'Sivewright', 49),\n ('China', 'Barny', 'Ingerson', 57),\n ('Uganda', 'Sharla', 'Papaccio', 55),\n ('China', 'Stella', 'Youens', 51),\n ('Poland', 'Julio', 'Buesden', 48),\n ('United States', 'Tiffie', 'Cosely', 58),\n ('Poland', 'Auroora', 'Stiffell', 45),\n ('China', 'Clarita', 'Huet', 52),\n ('Poland', 'Shannon', 'Goulden', 45),\n ('Philippines', 'Emylee', 'Privost', 50),\n ('France', 'Madelina', 'Burk', 49),\n ('China', 'Saunderson', 'Root', 58),\n ('Indonesia', 'Bo', 'Waring', 55),\n ('China', 'Hollis', 'Domotor', 45),\n ('Russia', 'Robbie', 'Collip', 46),\n ('Philippines', 'Davon', 'Donisi', 46),\n ('China', 'Cristabel', 'Radeliffe', 48),\n ('China', 'Wallis', 'Bartleet', 58),\n ('Moldova', 'Arleen', 'Stailey', 38),\n ('Ireland', 'Mendel', 'Grumble', 58),\n ('China', 'Sallyann', 'Exley', 51),\n ('Mexico', 'Kain', 'Swaite', 46),\n ('Indonesia', 'Alonso', 'Bulteel', 45),\n ('Armenia', 'Anatol', 'Tankus', 51),\n ('Indonesia', 'Coralyn', 'Dawkins', 48),\n ('China', 'Deanne', 'Edwinson', 45),\n ('China', 'Georgiana', 'Epple', 51),\n ('Portugal', 'Bartlet', 'Breese', 56),\n ('Azerbaijan', 'Idalina', 'Lukash', 50),\n ('France', 'Livvie', 'Flory', 54),\n ('Malaysia', 'Nonie', 'Borit', 48),\n ('Indonesia', 'Clio', 'Mugg', 47),\n ('Brazil', 'Westley', 'Measor', 48),\n ('Philippines', 'Katrinka', 'Sibbert', 51),\n ('Poland', 'Valentia', 'Mounch', 50),\n ('Norway', 'Sheilah', 'Hedditch', 53),\n ('Papua New Guinea', 'Itch', 'Jubb', 50),\n ('Latvia', 'Stesha', 'Garnson', 53),\n ('Canada', 'Cristionna', 'Wadmore', 46),\n ('China', 'Lianna', 'Gatward', 43),\n ('Guatemala', 'Tanney', 'Vials', 48),\n ('France', 'Alma', 'Zavittieri', 44),\n ('China', 'Alvira', 'Tamas', 50),\n ('United States', 'Shanon', 'Peres', 45),\n ('Sweden', 'Maisey', 'Lynas', 53),\n ('Indonesia', 'Kip', 'Hothersall', 46),\n ('China', 'Cash', 'Landis', 48),\n ('Panama', 'Kennith', 'Digance', 45),\n ('China', 'Ulberto', 'Riggeard', 48),\n ('Switzerland', 'Judy', 'Gilligan', 49),\n ('Philippines', 'Tod', 'Trevaskus', 52),\n ('Brazil', 'Herold', 'Heggs', 44),\n ('Latvia', 'Verney', 'Note', 50),\n ('Poland', 'Temp', 'Ribey', 50),\n ('China', 'Conroy', 'Egdal', 48),\n ('Japan', 'Gabie', 'Alessandone', 47),\n ('Ukraine', 'Devlen', 'Chaperlin', 54),\n ('France', 'Babbette', 'Turner', 51),\n ('Czech Republic', 'Virgil', 'Scotney', 52),\n ('Tajikistan', 'Zorina', 'Bedow', 49),\n ('China', 'Aidan', 'Rudeyeard', 50),\n ('Ireland', 'Saunder', 'MacLice', 48),\n ('France', 'Waly', 'Brunstan', 53),\n ('China', 'Gisele', 'Enns', 52),\n ('Peru', 'Mina', 'Winchester', 48),\n ('Japan', 'Torie', 'MacShirrie', 50),\n ('Russia', 'Benjamen', 'Kenford', 51),\n ('China', 'Etan', 'Burn', 53),\n ('Russia', 'Merralee', 'Chaperlin', 38),\n ('Indonesia', 'Lanny', 'Malam', 49),\n ('Canada', 'Wilhelm', 'Deeprose', 54),\n ('Czech Republic', 'Lari', 'Hillhouse', 48),\n ('China', 'Ossie', 'Woodley', 52),\n ('Macedonia', 'April', 'Tyer', 50),\n ('Vietnam', 'Madelon', 'Dansey', 53),\n ('Ukraine', 'Korella', 'McNamee', 52),\n ('Jamaica', 'Linnea', 'Cannam', 43),\n ('China', 'Mart', 'Coling', 52),\n ('Indonesia', 'Marna', 'Causbey', 47),\n ('China', 'Berni', 'Daintier', 55),\n ('Poland', 'Cynthia', 'Hassell', 49),\n ('Canada', 'Carma', 'Schule', 49),\n ('Indonesia', 'Malia', 'Blight', 48),\n ('China', 'Paulo', 'Seivertsen', 47),\n ('Niger', 'Kaylee', 'Hearley', 54),\n ('Japan', 'Maure', 'Jandak', 46),\n ('Argentina', 'Foss', 'Feavers', 45),\n ('Venezuela', 'Ron', 'Leggitt', 60),\n ('Russia', 'Flint', 'Gokes', 40),\n ('China', 'Linet', 'Conelly', 52),\n ('Philippines', 'Nikolas', 'Birtwell', 57),\n ('Australia', 'Eduard', 'Leipelt', 53)]",
      "text/html": "<table>\n    <tr>\n        <th>country</th>\n        <th>first_name</th>\n        <th>last_name</th>\n        <th>test_score</th>\n    </tr>\n    <tr>\n        <td>United States</td>\n        <td>Marshall</td>\n        <td>Bernadot</td>\n        <td>54</td>\n    </tr>\n    <tr>\n        <td>Ghana</td>\n        <td>Celinda</td>\n        <td>Malkin</td>\n        <td>51</td>\n    </tr>\n    <tr>\n        <td>Ukraine</td>\n        <td>Guillermo</td>\n        <td>Furze</td>\n        <td>53</td>\n    </tr>\n    <tr>\n        <td>Greece</td>\n        <td>Aharon</td>\n        <td>Tunnow</td>\n        <td>48</td>\n    </tr>\n    <tr>\n        <td>Russia</td>\n        <td>Bail</td>\n        <td>Goodwin</td>\n        <td>46</td>\n    </tr>\n    <tr>\n        <td>Poland</td>\n        <td>Cole</td>\n        <td>Winteringham</td>\n        <td>49</td>\n    </tr>\n    <tr>\n        <td>Sweden</td>\n        <td>Emlyn</td>\n        <td>Erricker</td>\n        <td>55</td>\n    </tr>\n    <tr>\n        <td>Russia</td>\n        <td>Cathee</td>\n        <td>Sivewright</td>\n        <td>49</td>\n    </tr>\n    <tr>\n        <td>China</td>\n        <td>Barny</td>\n        <td>Ingerson</td>\n        <td>57</td>\n    </tr>\n    <tr>\n        <td>Uganda</td>\n        <td>Sharla</td>\n        <td>Papaccio</td>\n        <td>55</td>\n    </tr>\n    <tr>\n        <td>China</td>\n        <td>Stella</td>\n        <td>Youens</td>\n        <td>51</td>\n    </tr>\n    <tr>\n        <td>Poland</td>\n        <td>Julio</td>\n        <td>Buesden</td>\n        <td>48</td>\n    </tr>\n    <tr>\n        <td>United States</td>\n        <td>Tiffie</td>\n        <td>Cosely</td>\n        <td>58</td>\n    </tr>\n    <tr>\n        <td>Poland</td>\n        <td>Auroora</td>\n        <td>Stiffell</td>\n        <td>45</td>\n    </tr>\n    <tr>\n        <td>China</td>\n        <td>Clarita</td>\n        <td>Huet</td>\n        <td>52</td>\n    </tr>\n    <tr>\n        <td>Poland</td>\n        <td>Shannon</td>\n        <td>Goulden</td>\n        <td>45</td>\n    </tr>\n    <tr>\n        <td>Philippines</td>\n        <td>Emylee</td>\n        <td>Privost</td>\n        <td>50</td>\n    </tr>\n    <tr>\n        <td>France</td>\n        <td>Madelina</td>\n        <td>Burk</td>\n        <td>49</td>\n    </tr>\n    <tr>\n        <td>China</td>\n        <td>Saunderson</td>\n        <td>Root</td>\n        <td>58</td>\n    </tr>\n    <tr>\n        <td>Indonesia</td>\n        <td>Bo</td>\n        <td>Waring</td>\n        <td>55</td>\n    </tr>\n    <tr>\n        <td>China</td>\n        <td>Hollis</td>\n        <td>Domotor</td>\n        <td>45</td>\n    </tr>\n    <tr>\n        <td>Russia</td>\n        <td>Robbie</td>\n        <td>Collip</td>\n        <td>46</td>\n    </tr>\n    <tr>\n        <td>Philippines</td>\n        <td>Davon</td>\n        <td>Donisi</td>\n        <td>46</td>\n    </tr>\n    <tr>\n        <td>China</td>\n        <td>Cristabel</td>\n        <td>Radeliffe</td>\n        <td>48</td>\n    </tr>\n    <tr>\n        <td>China</td>\n        <td>Wallis</td>\n        <td>Bartleet</td>\n        <td>58</td>\n    </tr>\n    <tr>\n        <td>Moldova</td>\n        <td>Arleen</td>\n        <td>Stailey</td>\n        <td>38</td>\n    </tr>\n    <tr>\n        <td>Ireland</td>\n        <td>Mendel</td>\n        <td>Grumble</td>\n        <td>58</td>\n    </tr>\n    <tr>\n        <td>China</td>\n        <td>Sallyann</td>\n        <td>Exley</td>\n        <td>51</td>\n    </tr>\n    <tr>\n        <td>Mexico</td>\n        <td>Kain</td>\n        <td>Swaite</td>\n        <td>46</td>\n    </tr>\n    <tr>\n        <td>Indonesia</td>\n        <td>Alonso</td>\n        <td>Bulteel</td>\n        <td>45</td>\n    </tr>\n    <tr>\n        <td>Armenia</td>\n        <td>Anatol</td>\n        <td>Tankus</td>\n        <td>51</td>\n    </tr>\n    <tr>\n        <td>Indonesia</td>\n        <td>Coralyn</td>\n        <td>Dawkins</td>\n        <td>48</td>\n    </tr>\n    <tr>\n        <td>China</td>\n        <td>Deanne</td>\n        <td>Edwinson</td>\n        <td>45</td>\n    </tr>\n    <tr>\n        <td>China</td>\n        <td>Georgiana</td>\n        <td>Epple</td>\n        <td>51</td>\n    </tr>\n    <tr>\n        <td>Portugal</td>\n        <td>Bartlet</td>\n        <td>Breese</td>\n        <td>56</td>\n    </tr>\n    <tr>\n        <td>Azerbaijan</td>\n        <td>Idalina</td>\n        <td>Lukash</td>\n        <td>50</td>\n    </tr>\n    <tr>\n        <td>France</td>\n        <td>Livvie</td>\n        <td>Flory</td>\n        <td>54</td>\n    </tr>\n    <tr>\n        <td>Malaysia</td>\n        <td>Nonie</td>\n        <td>Borit</td>\n        <td>48</td>\n    </tr>\n    <tr>\n        <td>Indonesia</td>\n        <td>Clio</td>\n        <td>Mugg</td>\n        <td>47</td>\n    </tr>\n    <tr>\n        <td>Brazil</td>\n        <td>Westley</td>\n        <td>Measor</td>\n        <td>48</td>\n    </tr>\n    <tr>\n        <td>Philippines</td>\n        <td>Katrinka</td>\n        <td>Sibbert</td>\n        <td>51</td>\n    </tr>\n    <tr>\n        <td>Poland</td>\n        <td>Valentia</td>\n        <td>Mounch</td>\n        <td>50</td>\n    </tr>\n    <tr>\n        <td>Norway</td>\n        <td>Sheilah</td>\n        <td>Hedditch</td>\n        <td>53</td>\n    </tr>\n    <tr>\n        <td>Papua New Guinea</td>\n        <td>Itch</td>\n        <td>Jubb</td>\n        <td>50</td>\n    </tr>\n    <tr>\n        <td>Latvia</td>\n        <td>Stesha</td>\n        <td>Garnson</td>\n        <td>53</td>\n    </tr>\n    <tr>\n        <td>Canada</td>\n        <td>Cristionna</td>\n        <td>Wadmore</td>\n        <td>46</td>\n    </tr>\n    <tr>\n        <td>China</td>\n        <td>Lianna</td>\n        <td>Gatward</td>\n        <td>43</td>\n    </tr>\n    <tr>\n        <td>Guatemala</td>\n        <td>Tanney</td>\n        <td>Vials</td>\n        <td>48</td>\n    </tr>\n    <tr>\n        <td>France</td>\n        <td>Alma</td>\n        <td>Zavittieri</td>\n        <td>44</td>\n    </tr>\n    <tr>\n        <td>China</td>\n        <td>Alvira</td>\n        <td>Tamas</td>\n        <td>50</td>\n    </tr>\n    <tr>\n        <td>United States</td>\n        <td>Shanon</td>\n        <td>Peres</td>\n        <td>45</td>\n    </tr>\n    <tr>\n        <td>Sweden</td>\n        <td>Maisey</td>\n        <td>Lynas</td>\n        <td>53</td>\n    </tr>\n    <tr>\n        <td>Indonesia</td>\n        <td>Kip</td>\n        <td>Hothersall</td>\n        <td>46</td>\n    </tr>\n    <tr>\n        <td>China</td>\n        <td>Cash</td>\n        <td>Landis</td>\n        <td>48</td>\n    </tr>\n    <tr>\n        <td>Panama</td>\n        <td>Kennith</td>\n        <td>Digance</td>\n        <td>45</td>\n    </tr>\n    <tr>\n        <td>China</td>\n        <td>Ulberto</td>\n        <td>Riggeard</td>\n        <td>48</td>\n    </tr>\n    <tr>\n        <td>Switzerland</td>\n        <td>Judy</td>\n        <td>Gilligan</td>\n        <td>49</td>\n    </tr>\n    <tr>\n        <td>Philippines</td>\n        <td>Tod</td>\n        <td>Trevaskus</td>\n        <td>52</td>\n    </tr>\n    <tr>\n        <td>Brazil</td>\n        <td>Herold</td>\n        <td>Heggs</td>\n        <td>44</td>\n    </tr>\n    <tr>\n        <td>Latvia</td>\n        <td>Verney</td>\n        <td>Note</td>\n        <td>50</td>\n    </tr>\n    <tr>\n        <td>Poland</td>\n        <td>Temp</td>\n        <td>Ribey</td>\n        <td>50</td>\n    </tr>\n    <tr>\n        <td>China</td>\n        <td>Conroy</td>\n        <td>Egdal</td>\n        <td>48</td>\n    </tr>\n    <tr>\n        <td>Japan</td>\n        <td>Gabie</td>\n        <td>Alessandone</td>\n        <td>47</td>\n    </tr>\n    <tr>\n        <td>Ukraine</td>\n        <td>Devlen</td>\n        <td>Chaperlin</td>\n        <td>54</td>\n    </tr>\n    <tr>\n        <td>France</td>\n        <td>Babbette</td>\n        <td>Turner</td>\n        <td>51</td>\n    </tr>\n    <tr>\n        <td>Czech Republic</td>\n        <td>Virgil</td>\n        <td>Scotney</td>\n        <td>52</td>\n    </tr>\n    <tr>\n        <td>Tajikistan</td>\n        <td>Zorina</td>\n        <td>Bedow</td>\n        <td>49</td>\n    </tr>\n    <tr>\n        <td>China</td>\n        <td>Aidan</td>\n        <td>Rudeyeard</td>\n        <td>50</td>\n    </tr>\n    <tr>\n        <td>Ireland</td>\n        <td>Saunder</td>\n        <td>MacLice</td>\n        <td>48</td>\n    </tr>\n    <tr>\n        <td>France</td>\n        <td>Waly</td>\n        <td>Brunstan</td>\n        <td>53</td>\n    </tr>\n    <tr>\n        <td>China</td>\n        <td>Gisele</td>\n        <td>Enns</td>\n        <td>52</td>\n    </tr>\n    <tr>\n        <td>Peru</td>\n        <td>Mina</td>\n        <td>Winchester</td>\n        <td>48</td>\n    </tr>\n    <tr>\n        <td>Japan</td>\n        <td>Torie</td>\n        <td>MacShirrie</td>\n        <td>50</td>\n    </tr>\n    <tr>\n        <td>Russia</td>\n        <td>Benjamen</td>\n        <td>Kenford</td>\n        <td>51</td>\n    </tr>\n    <tr>\n        <td>China</td>\n        <td>Etan</td>\n        <td>Burn</td>\n        <td>53</td>\n    </tr>\n    <tr>\n        <td>Russia</td>\n        <td>Merralee</td>\n        <td>Chaperlin</td>\n        <td>38</td>\n    </tr>\n    <tr>\n        <td>Indonesia</td>\n        <td>Lanny</td>\n        <td>Malam</td>\n        <td>49</td>\n    </tr>\n    <tr>\n        <td>Canada</td>\n        <td>Wilhelm</td>\n        <td>Deeprose</td>\n        <td>54</td>\n    </tr>\n    <tr>\n        <td>Czech Republic</td>\n        <td>Lari</td>\n        <td>Hillhouse</td>\n        <td>48</td>\n    </tr>\n    <tr>\n        <td>China</td>\n        <td>Ossie</td>\n        <td>Woodley</td>\n        <td>52</td>\n    </tr>\n    <tr>\n        <td>Macedonia</td>\n        <td>April</td>\n        <td>Tyer</td>\n        <td>50</td>\n    </tr>\n    <tr>\n        <td>Vietnam</td>\n        <td>Madelon</td>\n        <td>Dansey</td>\n        <td>53</td>\n    </tr>\n    <tr>\n        <td>Ukraine</td>\n        <td>Korella</td>\n        <td>McNamee</td>\n        <td>52</td>\n    </tr>\n    <tr>\n        <td>Jamaica</td>\n        <td>Linnea</td>\n        <td>Cannam</td>\n        <td>43</td>\n    </tr>\n    <tr>\n        <td>China</td>\n        <td>Mart</td>\n        <td>Coling</td>\n        <td>52</td>\n    </tr>\n    <tr>\n        <td>Indonesia</td>\n        <td>Marna</td>\n        <td>Causbey</td>\n        <td>47</td>\n    </tr>\n    <tr>\n        <td>China</td>\n        <td>Berni</td>\n        <td>Daintier</td>\n        <td>55</td>\n    </tr>\n    <tr>\n        <td>Poland</td>\n        <td>Cynthia</td>\n        <td>Hassell</td>\n        <td>49</td>\n    </tr>\n    <tr>\n        <td>Canada</td>\n        <td>Carma</td>\n        <td>Schule</td>\n        <td>49</td>\n    </tr>\n    <tr>\n        <td>Indonesia</td>\n        <td>Malia</td>\n        <td>Blight</td>\n        <td>48</td>\n    </tr>\n    <tr>\n        <td>China</td>\n        <td>Paulo</td>\n        <td>Seivertsen</td>\n        <td>47</td>\n    </tr>\n    <tr>\n        <td>Niger</td>\n        <td>Kaylee</td>\n        <td>Hearley</td>\n        <td>54</td>\n    </tr>\n    <tr>\n        <td>Japan</td>\n        <td>Maure</td>\n        <td>Jandak</td>\n        <td>46</td>\n    </tr>\n    <tr>\n        <td>Argentina</td>\n        <td>Foss</td>\n        <td>Feavers</td>\n        <td>45</td>\n    </tr>\n    <tr>\n        <td>Venezuela</td>\n        <td>Ron</td>\n        <td>Leggitt</td>\n        <td>60</td>\n    </tr>\n    <tr>\n        <td>Russia</td>\n        <td>Flint</td>\n        <td>Gokes</td>\n        <td>40</td>\n    </tr>\n    <tr>\n        <td>China</td>\n        <td>Linet</td>\n        <td>Conelly</td>\n        <td>52</td>\n    </tr>\n    <tr>\n        <td>Philippines</td>\n        <td>Nikolas</td>\n        <td>Birtwell</td>\n        <td>57</td>\n    </tr>\n    <tr>\n        <td>Australia</td>\n        <td>Eduard</td>\n        <td>Leipelt</td>\n        <td>53</td>\n    </tr>\n</table>"
     },
     "metadata": {},
     "execution_count": 22
    }
   ],
   "source": [
    "%%sql \n",
    "\n",
    "-- Feel free to experiment with the data set provided in this notebook for practice:\n",
    "SELECT country, first_name, last_name, test_score FROM INTERNATIONAL_STUDENT_TEST_SCORES;    "
   ]
  },
  {
   "cell_type": "markdown",
   "metadata": {},
   "source": [
    "Copyright &copy; 2018 [cognitiveclass.ai](cognitiveclass.ai?utm_source=bducopyrightlink&utm_medium=dswb&utm_campaign=bdu). This notebook and its source code are released under the terms of the [MIT License](https://bigdatauniversity.com/mit-license/).\n"
   ]
  }
 ],
 "metadata": {
  "kernelspec": {
   "display_name": "Python 3",
   "language": "python",
   "name": "python3"
  },
  "language_info": {
   "codemirror_mode": {
    "name": "ipython",
    "version": 3
   },
   "file_extension": ".py",
   "mimetype": "text/x-python",
   "name": "python",
   "nbconvert_exporter": "python",
   "pygments_lexer": "ipython3",
   "version": "3.8.5-final"
  }
 },
 "nbformat": 4,
 "nbformat_minor": 2
}